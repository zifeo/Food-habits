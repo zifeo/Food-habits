{
 "cells": [
  {
   "cell_type": "code",
   "execution_count": null,
   "metadata": {
    "collapsed": false
   },
   "outputs": [],
   "source": [
    "import pandas as pd\n",
    "import numpy as np\n",
    "import json\n",
    "from bs4 import BeautifulSoup\n",
    "import re\n",
    "from elasticsearch import Elasticsearch\n",
    "from elasticsearch import helpers as eshelper"
   ]
  },
  {
   "cell_type": "code",
   "execution_count": null,
   "metadata": {
    "collapsed": false
   },
   "outputs": [],
   "source": [
    "df = pd.read_json(\"../data/recipe1.json\")\n",
    "df.shape"
   ]
  },
  {
   "cell_type": "code",
   "execution_count": null,
   "metadata": {
    "collapsed": false
   },
   "outputs": [],
   "source": [
    "df.head()"
   ]
  },
  {
   "cell_type": "markdown",
   "metadata": {},
   "source": [
    "## Quantity"
   ]
  },
  {
   "cell_type": "code",
   "execution_count": null,
   "metadata": {
    "collapsed": false
   },
   "outputs": [],
   "source": [
    "df.quantity.unique()"
   ]
  },
  {
   "cell_type": "code",
   "execution_count": null,
   "metadata": {
    "collapsed": false
   },
   "outputs": [],
   "source": [
    "df = df[df.quantity.str.contains('pers') | df.quantity.str.contains('portion')]\n",
    "df.shape"
   ]
  },
  {
   "cell_type": "code",
   "execution_count": null,
   "metadata": {
    "collapsed": true
   },
   "outputs": [],
   "source": [
    "quantity = df.quantity.apply(lambda x: int(x.split()[0]))"
   ]
  },
  {
   "cell_type": "code",
   "execution_count": null,
   "metadata": {
    "collapsed": false
   },
   "outputs": [],
   "source": [
    "df = pd.concat([df.drop('quantity', axis=1), quantity], axis=1)\n",
    "df.shape"
   ]
  },
  {
   "cell_type": "code",
   "execution_count": null,
   "metadata": {
    "collapsed": false
   },
   "outputs": [],
   "source": [
    "df.ix[0].content"
   ]
  },
  {
   "cell_type": "code",
   "execution_count": null,
   "metadata": {
    "collapsed": false
   },
   "outputs": [],
   "source": [
    "def replace_frac(n):\n",
    "    return n \\\n",
    "    .replace('1/2', '0.5') \\\n",
    "    .replace('1/3', '0.3333') \\\n",
    "    .replace('2/3', '0.6666') \\\n",
    "    .replace('1/4', '0.25') \\\n",
    "    .replace('3/4', '0.75') \\\n",
    "    .replace('1/5', '0.2') \\\n",
    "    .replace('2/5', '0.4') \\\n",
    "    .replace('3/5', '0.6') \\\n",
    "    .replace('4/5', '0.8') \\\n",
    "    .replace('1/6', '0.1666') \\\n",
    "    .replace('5/6', '0.8333') \\\n",
    "    .replace('1/8', '0.125') \\\n",
    "    .replace('3/8', '0.375') \\\n",
    "    .replace('5/8', '0.675') \\\n",
    "    .replace('7/8', '0.875') \\\n",
    "    .replace('½',   '0.5') \\\n",
    "    .replace('⅓',   '0.3333') \\\n",
    "    .replace('⅔',   '0.6666') \\\n",
    "    .replace('¼',   '0.25') \\\n",
    "    .replace('¾',   '0.75') \\\n",
    "    .replace('⅕',   '0.2') \\\n",
    "    .replace('⅖',   '0.4') \\\n",
    "    .replace('⅗',   '0.6') \\\n",
    "    .replace('⅘',   '0.8') \\\n",
    "    .replace('⅙',   '0.1666') \\\n",
    "    .replace('⅚',   '0.8333') \\\n",
    "    .replace('⅛',   '0.125') \\\n",
    "    .replace('⅜',   '0.375') \\\n",
    "    .replace('⅝',   '0.675') \\\n",
    "    .replace('⅞',   '0.875')"
   ]
  },
  {
   "cell_type": "code",
   "execution_count": null,
   "metadata": {
    "collapsed": false
   },
   "outputs": [],
   "source": [
    "raw = []\n",
    "delim_re = re.compile('\\([^\\)]+\\)')\n",
    "un_re = re.compile('^une?\\s')\n",
    "\n",
    "for i, r in df.iterrows():\n",
    "    if 'li' in r.content:\n",
    "        ings = [li.get_text().strip() for li in BeautifulSoup(r.content, 'html.parser').find_all('li')]\n",
    "        raw.append({\n",
    "            'name': r.recipe,\n",
    "            'quantity': r.quantity,\n",
    "            'ingredients': [replace_frac(un_re.sub('1 ', delim_re.sub('', ing.lower()))) for ing in ings],\n",
    "        })"
   ]
  },
  {
   "cell_type": "code",
   "execution_count": null,
   "metadata": {
    "collapsed": false
   },
   "outputs": [],
   "source": [
    "float_re = '\\s?([0-9]*[.]?[0-9]+)'\n",
    "ing_re = '(.+)'\n",
    "units_re = [\n",
    "    re.compile('{}{}{}'.format(float_re, u, ing_re)) for u in [\n",
    "        '\\s?(dl)\\s', \n",
    "        '\\s?(l)\\s', \n",
    "        '\\s?(ml)\\s', \n",
    "        '\\s?(cl)\\s', \n",
    "        '\\s?(g)\\s', \n",
    "        '\\s?(kg)\\s',\n",
    "        '\\s?(c)\\s?à\\s[cs]\\s',\n",
    "        '\\s(cuillère)s?\\s', \n",
    "        '\\s(cuillerée)s?\\s', \n",
    "        '\\s(pincée)s?\\s', \n",
    "        '\\s(poignée)s?\\s', \n",
    "        '\\s(verre)s?\\s',\n",
    "        '()']\n",
    "    ]"
   ]
  },
  {
   "cell_type": "code",
   "execution_count": null,
   "metadata": {
    "collapsed": true
   },
   "outputs": [],
   "source": [
    "mapping = {\n",
    "    'dl': (100, 'ml'),\n",
    "    'l': (1000, 'ml') ,\n",
    "    'ml': (1, 'ml'),\n",
    "    'cl': (10, 'ml'),\n",
    "    'g': (1, 'g'),\n",
    "    'kg': (1000, 'kg'),\n",
    "    'c': (10, 'ml'),\n",
    "    'cuillère': (10, 'ml'),\n",
    "    'cuillerée': (10, 'ml'),\n",
    "    'pincée': (3, 'g'),\n",
    "    'poignée': (50, 'g'),\n",
    "    'verre': (300, 'ml'),\n",
    "}"
   ]
  },
  {
   "cell_type": "code",
   "execution_count": null,
   "metadata": {
    "collapsed": true
   },
   "outputs": [],
   "source": [
    "too_vague = ['sel', 'poivre', 'huile', 'beurre']"
   ]
  },
  {
   "cell_type": "code",
   "execution_count": null,
   "metadata": {
    "collapsed": false
   },
   "outputs": [],
   "source": [
    "recipes = []\n",
    "not_matched = []\n",
    "c = 0\n",
    "\n",
    "for r in raw:\n",
    "    recipe = {\n",
    "        'name': r['name'],\n",
    "        'ingredients': []\n",
    "    }\n",
    "    for ing in r['ingredients']:\n",
    "\n",
    "        found = False\n",
    "        for pttrn in units_re:\n",
    "            res = pttrn.search(ing)\n",
    "            if res:\n",
    "                quantity, unit, content = res.groups()\n",
    "                \n",
    "                quantity = float(quantity)\n",
    "                if unit:\n",
    "                    coef, unit = mapping[unit]\n",
    "                    quantity *= float(coef) / r['quantity']\n",
    "\n",
    "                #print(\"{} / {} / {}\".format(quantity, unit, content))\n",
    "                recipe['ingredients'].append({\n",
    "                    'content': content.strip(),\n",
    "                    'quantity': quantity,\n",
    "                    'unit': unit if len(unit) else None,\n",
    "                })\n",
    "                found = True\n",
    "                break\n",
    "        if not found and all([w not in ing for w in too_vague]):\n",
    "            not_matched.append(ing)\n",
    "        else:\n",
    "            c += 1\n",
    "            \n",
    "    recipes.append(recipe)"
   ]
  },
  {
   "cell_type": "code",
   "execution_count": null,
   "metadata": {
    "collapsed": false
   },
   "outputs": [],
   "source": [
    "len(recipes)"
   ]
  },
  {
   "cell_type": "code",
   "execution_count": null,
   "metadata": {
    "collapsed": false
   },
   "outputs": [],
   "source": [
    "len(not_matched)"
   ]
  },
  {
   "cell_type": "code",
   "execution_count": null,
   "metadata": {
    "collapsed": false
   },
   "outputs": [],
   "source": [
    "c"
   ]
  },
  {
   "cell_type": "code",
   "execution_count": null,
   "metadata": {
    "collapsed": false
   },
   "outputs": [],
   "source": [
    "not_matched"
   ]
  },
  {
   "cell_type": "code",
   "execution_count": null,
   "metadata": {
    "collapsed": false
   },
   "outputs": [],
   "source": [
    "recipes[0]"
   ]
  },
  {
   "cell_type": "code",
   "execution_count": null,
   "metadata": {
    "collapsed": false
   },
   "outputs": [],
   "source": [
    "entries = []\n",
    "\n",
    "for recipe in recipes:\n",
    "    fmt = {\n",
    "        '_index': 'recipes',\n",
    "        '_type': '750g',\n",
    "        '_source': recipe\n",
    "    }\n",
    "    entries.append(fmt)\n",
    "        \n",
    "len(entries)"
   ]
  },
  {
   "cell_type": "code",
   "execution_count": null,
   "metadata": {
    "collapsed": true
   },
   "outputs": [],
   "source": [
    "client = Elasticsearch(hosts='http://')"
   ]
  },
  {
   "cell_type": "code",
   "execution_count": null,
   "metadata": {
    "collapsed": false
   },
   "outputs": [],
   "source": [
    "eshelper.bulk(client, entries)"
   ]
  },
  {
   "cell_type": "code",
   "execution_count": null,
   "metadata": {
    "collapsed": true
   },
   "outputs": [],
   "source": []
  }
 ],
 "metadata": {
  "kernelspec": {
   "display_name": "Python 3",
   "language": "python",
   "name": "python3"
  },
  "language_info": {
   "codemirror_mode": {
    "name": "ipython",
    "version": 3
   },
   "file_extension": ".py",
   "mimetype": "text/x-python",
   "name": "python",
   "nbconvert_exporter": "python",
   "pygments_lexer": "ipython3",
   "version": "3.6.0"
  }
 },
 "nbformat": 4,
 "nbformat_minor": 2
}
