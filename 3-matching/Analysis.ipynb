{
 "cells": [
  {
   "cell_type": "code",
   "execution_count": null,
   "metadata": {
    "collapsed": true
   },
   "outputs": [],
   "source": [
    "import pandas as pd\n",
    "import numpy as np\n",
    "import matplotlib.pyplot as plt\n",
    "from elasticsearch import Elasticsearch\n",
    "from elasticsearch_dsl import Search, Q\n",
    "from elasticsearch import helpers as eshelper\n",
    "import nltk\n",
    "from nltk.tag import StanfordPOSTagger\n",
    "from tqdm import tqdm"
   ]
  },
  {
   "cell_type": "code",
   "execution_count": null,
   "metadata": {
    "collapsed": false
   },
   "outputs": [],
   "source": [
    "client = Elasticsearch(hosts='http://')"
   ]
  },
  {
   "cell_type": "code",
   "execution_count": null,
   "metadata": {
    "collapsed": false
   },
   "outputs": [],
   "source": [
    "restaurants = [r for r in Search(using=client, index='restaurants').scan()]\n",
    "len(restaurants)"
   ]
  },
  {
   "cell_type": "code",
   "execution_count": null,
   "metadata": {
    "collapsed": true
   },
   "outputs": [],
   "source": []
  },
  {
   "cell_type": "code",
   "execution_count": null,
   "metadata": {
    "collapsed": false
   },
   "outputs": [],
   "source": [
    "req = Search(using=client, index='recipes') \\\n",
    "    .query('match', **{'ingredients.content': 'asperge'})\n",
    "    \n",
    "for hit in req.execute():\n",
    "    print(hit.name)\n",
    "    print(hit.ingredients)\n",
    "    print()"
   ]
  },
  {
   "cell_type": "code",
   "execution_count": null,
   "metadata": {
    "collapsed": false
   },
   "outputs": [],
   "source": [
    "req = Search(using=client, index='products') \\\n",
    "    .query('match', name='sachets de thé vert')\n",
    "    \n",
    "for hit in req.execute():\n",
    "    print(hit.name)\n",
    "    print(hit.meta.score)\n",
    "    print([x.name for x in hit.nutriments])\n",
    "    print()"
   ]
  },
  {
   "cell_type": "code",
   "execution_count": null,
   "metadata": {
    "collapsed": true
   },
   "outputs": [],
   "source": []
  },
  {
   "cell_type": "code",
   "execution_count": null,
   "metadata": {
    "collapsed": false
   },
   "outputs": [],
   "source": [
    "restaurants = [r for r in Search(using=client, index='restaurants').query('match', **{'city': 'lyon'}).scan()]\n",
    "len(restaurants)"
   ]
  },
  {
   "cell_type": "code",
   "execution_count": null,
   "metadata": {
    "collapsed": false
   },
   "outputs": [],
   "source": [
    "for restaurant in restaurants:\n",
    "    \n",
    "    print('- Restaurant: {}'.format(restaurant.name))\n",
    "    if 'mains' in restaurant:\n",
    "        for main in restaurant.mains:\n",
    "            \n",
    "            print('  - Plat: {}'.format(main.name))\n",
    "            recipes = [i for i in Search(using=client, index='recipes').query('match', name=main.name)[0].execute()]\n",
    "            recipes_match = recipes\n",
    "            continue\n",
    "            for recipe in recipes_match:\n",
    "                \n",
    "                print('    - Recette: {}'.format(recipe.name))\n",
    "                ings = [n for n in Search(using=client, index='products').query('match', name=recipe.name).execute()]\n",
    "                ings_match = ings\n",
    "                \n",
    "                for ing in ings_match:\n",
    "                    print('      - Ingredient: {}'.format(ing.name))\n",
    "                    \n",
    "                    for nut in ing.nutriments:\n",
    "                        print(\"        - Nutriment: {} {}{}\".format(nut.name, nut.per_hundred, nut.unit))\n"
   ]
  },
  {
   "cell_type": "code",
   "execution_count": null,
   "metadata": {
    "collapsed": false
   },
   "outputs": [],
   "source": [
    "main = 'Filet de bœuf aux morilles'\n",
    "recipes = Search(using=client, index='recipes').query('match', name=main)[:30].execute()\n",
    "for recipe in recipes:\n",
    "    print(recipe.name)\n",
    "    print(recipe.meta.score)\n",
    "    print(recipe.meta.id)\n",
    "    print(recipe.meta.doc_type)\n",
    "    ingredient_names = [i.content for i in recipe.ingredients]\n",
    "    print(ingredient_names)"
   ]
  },
  {
   "cell_type": "code",
   "execution_count": null,
   "metadata": {
    "collapsed": false
   },
   "outputs": [],
   "source": []
  },
  {
   "cell_type": "code",
   "execution_count": null,
   "metadata": {
    "collapsed": false
   },
   "outputs": [],
   "source": []
  },
  {
   "cell_type": "code",
   "execution_count": null,
   "metadata": {
    "collapsed": false
   },
   "outputs": [],
   "source": [
    "agg = Search(using=client, index='recipes').query('match', name='Pavé de bœuf sauce Smash sur ardoise')\n",
    "agg.aggs.bucket('count', 'significant_terms', field='ingredients.content', size=100)\n",
    "#.bucket('count_avg', 'significant_terms', field='ingredients.content')\n",
    "agg.execute().aggs.count.to_dict()['buckets']"
   ]
  },
  {
   "cell_type": "code",
   "execution_count": null,
   "metadata": {
    "collapsed": false
   },
   "outputs": [],
   "source": [
    "Search(using=client, index='recipes').query('match', name='Filet de bœuf aux morilles')"
   ]
  },
  {
   "cell_type": "code",
   "execution_count": null,
   "metadata": {
    "collapsed": false
   },
   "outputs": [],
   "source": [
    "def search_fielddata(index, term, fields=[], size=10):\n",
    "    res = client.search(\n",
    "        index=index,\n",
    "        body={\n",
    "            'query': {\n",
    "                'match': {\n",
    "                    'name': term\n",
    "                }\n",
    "            },\n",
    "            'post_filter': {\n",
    "                'exists': {\n",
    "                  'field': 'ingredients.unit'\n",
    "                }\n",
    "              },\n",
    "            'size': size,\n",
    "            'fielddata_fields': fields\n",
    "        }\n",
    "    )['hits']['hits']\n",
    "    return res"
   ]
  },
  {
   "cell_type": "code",
   "execution_count": null,
   "metadata": {
    "collapsed": false
   },
   "outputs": [],
   "source": [
    "def recipes_enrichment(term, min_occurence=2, min_ing=5, prnt=False):\n",
    "    recipes = search_fielddata('recipes', term, ['ingredients.content'], 20)\n",
    "    \n",
    "    ings = {}\n",
    "    for recipe in recipes:\n",
    "        for ing in recipe['fields']['ingredients.content']:\n",
    "            if ing in ings:\n",
    "                ings[ing] += 1\n",
    "            else:\n",
    "                ings[ing] = 1\n",
    "        \n",
    "    ings_scores = sorted([(v, k) for k, v in ings.items()], reverse=True, key=lambda x: x[0])\n",
    "    ings_trendy = set([v for k, v in ings_scores if k >= min_occurence])\n",
    "    \n",
    "    recipes_scores = []\n",
    "    for recipe in recipes:\n",
    "        matches = 0\n",
    "        for ing in recipe['fields']['ingredients.content']:\n",
    "            if ing in ings_trendy:\n",
    "                matches += 1\n",
    "        recipes_scores.append((matches, recipe))\n",
    "        \n",
    "    recipes_scores = sorted(recipes_scores, reverse=True, key=lambda x: x[0])\n",
    "    recipes_trendy = [v for k, v in recipes_scores if k >= min_ing]\n",
    "    \n",
    "    if prnt:\n",
    "        print([r['_source']['name'] for r in recipes_trendy])\n",
    "    \n",
    "    return recipes"
   ]
  },
  {
   "cell_type": "code",
   "execution_count": null,
   "metadata": {
    "collapsed": false
   },
   "outputs": [],
   "source": [
    "jar = '../data/stanford-postagger/stanford-postagger.jar'\n",
    "model = '../data/stanford-postagger/models/french.tagger'\n",
    "pos_tagger = StanfordPOSTagger(model, jar, encoding='utf8')"
   ]
  },
  {
   "cell_type": "code",
   "execution_count": null,
   "metadata": {
    "collapsed": false
   },
   "outputs": [],
   "source": [
    "pos_tagger.tag('belle tomate'.split())"
   ]
  },
  {
   "cell_type": "code",
   "execution_count": null,
   "metadata": {
    "collapsed": false
   },
   "outputs": [],
   "source": [
    "def search_boost(index, term, unit, size=10):\n",
    "    res = client.search(\n",
    "        index=index,\n",
    "        body={\n",
    "            'query': {\n",
    "                'function_score': {\n",
    "                    'query': {\n",
    "                        'bool': {\n",
    "                            'must': [\n",
    "                                {\n",
    "                                    'match': {\n",
    "                                        'name': {\n",
    "                                            'query': term,\n",
    "                                            'boost': 4\n",
    "                                        }\n",
    "                                    }\n",
    "                                }\n",
    "                            ],\n",
    "                            'should': [\n",
    "                                {\n",
    "                                    'match': { \n",
    "                                        'unit': unit if unit else ''\n",
    "                                    }\n",
    "                                },\n",
    "                                {\n",
    "                                    'range': {\n",
    "                                        'quantity': {\n",
    "                                            'lte': 250,\n",
    "                                            'gte': 1,\n",
    "                                            'boost': 4\n",
    "                                        }\n",
    "                                    }\n",
    "                                }\n",
    "                            ],\n",
    "                            'minimum_should_match': 0\n",
    "                        }\n",
    "                    },\n",
    "                    'script_score': {\n",
    "                        'script': {\n",
    "                          'lang': 'painless',\n",
    "                          'inline': '_score * 1.0 / doc[\"name\"].length'\n",
    "                        }\n",
    "                    }\n",
    "                }\n",
    "            },\n",
    "            'size': size\n",
    "        }\n",
    "    )['hits']['hits']\n",
    "    return res"
   ]
  },
  {
   "cell_type": "code",
   "execution_count": null,
   "metadata": {
    "collapsed": true
   },
   "outputs": [],
   "source": [
    "def estimate_quantity(index, term, percentile='50.0'):\n",
    "    res = client.search(\n",
    "        index=index,\n",
    "        body={\n",
    "          \"query\": {\n",
    "            \"nested\": {\n",
    "              \"path\": \"ingredients\",\n",
    "              \"query\": {\n",
    "                \"bool\": {\n",
    "                  \"must\": [\n",
    "                    { \n",
    "                      \"match\": { \n",
    "                        \"ingredients.content\": term\n",
    "                      }\n",
    "                    },\n",
    "                    {\n",
    "                      \"exists\": {\n",
    "                        \"field\": \"ingredients.unit\"\n",
    "                      }\n",
    "                    }\n",
    "                  ]\n",
    "                }\n",
    "              }\n",
    "            }\n",
    "          },\n",
    "          \"aggs\": {\n",
    "            \"average\": {\n",
    "              \"nested\": {\n",
    "                \"path\": \"ingredients\"\n",
    "              },\n",
    "              \"aggs\": {\n",
    "                \"quantity\": {\n",
    "                  \"percentiles\": {\n",
    "                    \"field\": \"ingredients.quantity\"\n",
    "                  }\n",
    "                }\n",
    "              }\n",
    "            }\n",
    "          },\n",
    "          \"_source\": \"\"\n",
    "        }\n",
    "    )\n",
    "    per = res['aggregations']['average']['quantity']['values'][percentile]\n",
    "    return per if per != 'NaN' else 0"
   ]
  },
  {
   "cell_type": "code",
   "execution_count": null,
   "metadata": {
    "collapsed": true
   },
   "outputs": [],
   "source": [
    "def merge_nutriments(arr, avg=False):\n",
    "    \n",
    "    arr = [a for a in arr if a]\n",
    "    nut_names = set()\n",
    "    for nutriments in arr:\n",
    "        for nut, value in nutriments.items():\n",
    "            nut_names.add(nut)\n",
    "    \n",
    "    merged = {}\n",
    "    averger = len(arr) if avg else 1.0\n",
    "    \n",
    "    for nut_name in nut_names:\n",
    "        quantity = 0.0\n",
    "        unit = None\n",
    "        \n",
    "        for nutriments in arr:\n",
    "            if nut_name in nutriments:\n",
    "                if not unit:\n",
    "                    unit = nutriments[nut_name]['unit']\n",
    "                if unit == nutriments[nut_name]['unit']:\n",
    "                    quantity += nutriments[nut_name]['quantity']\n",
    "                \n",
    "        merged[nut_name] = {\n",
    "            'quantity': quantity / averger,\n",
    "            'unit': unit\n",
    "        }\n",
    "        \n",
    "    return merged"
   ]
  },
  {
   "cell_type": "code",
   "execution_count": null,
   "metadata": {
    "collapsed": true
   },
   "outputs": [],
   "source": [
    "def pretty_nutriments(nuts):\n",
    "    print('\\n'.join(['{:25}{:.2f}\\t{}'.format(k, v['quantity'], v['unit']) for k, v in nuts.items()]))"
   ]
  },
  {
   "cell_type": "code",
   "execution_count": null,
   "metadata": {
    "collapsed": false
   },
   "outputs": [],
   "source": [
    "def ingredients_enrichment(recipe, prnt=False, log=False):\n",
    "    \n",
    "    ingredients = recipe['_source']['ingredients']\n",
    "    \n",
    "    if log:\n",
    "        print(recipe['_source']['name'])\n",
    "    \n",
    "    ingredients_nutriments = []\n",
    "    \n",
    "    for i in ingredients:\n",
    "        \n",
    "        content = i['content']\n",
    "        pos = pos_tagger.tag(content.split())\n",
    "        content_cleaned = ' '.join([k for k, v in pos if v != 'ADJ'])\n",
    "        unit = i['unit']\n",
    "        quantity = i['quantity']\n",
    "        \n",
    "        if not unit:\n",
    "            quantity = estimate_quantity('recipes_nested', content)\n",
    "            \n",
    "        if prnt:\n",
    "            print('======')\n",
    "            print(pos)\n",
    "            print(content_cleaned)\n",
    "            print(quantity)\n",
    "            print(unit)\n",
    "            print('===')\n",
    "\n",
    "        products = search_boost('products', content_cleaned, unit, 5)\n",
    "\n",
    "        for p in products:\n",
    "\n",
    "            nutirment_quantity = p['_source']['quantity']\n",
    "            factor = quantity\n",
    "            if nutirment_quantity:\n",
    "                factor *= 100.0 / nutirment_quantity\n",
    "                \n",
    "            if prnt:\n",
    "                print(p['_source']['name'])\n",
    "                print(nutirment_quantity)\n",
    "                print(p['_source']['unit'])\n",
    "                print(p['_score'])\n",
    "\n",
    "            selected_nutriments = {}\n",
    "            for n in p['_source']['nutriments']:\n",
    "                selected_nutriments[n['name']] = {\n",
    "                    'unit': n['unit'],\n",
    "                    'quantity': n['per_hundred'] / 100.0 * factor\n",
    "                } \n",
    "\n",
    "            if prnt:\n",
    "                print(selected_nutriments)\n",
    "            ingredients_nutriments.append(selected_nutriments)\n",
    "            break\n",
    "\n",
    "    #print(ingredients_nutriments)\n",
    "    \n",
    "    final_nutriments = merge_nutriments(ingredients_nutriments)\n",
    "      \n",
    "    if log:\n",
    "        pretty_nutriments(final_nutriments)\n",
    "        \n",
    "    return final_nutriments"
   ]
  },
  {
   "cell_type": "code",
   "execution_count": null,
   "metadata": {
    "collapsed": false
   },
   "outputs": [],
   "source": []
  },
  {
   "cell_type": "code",
   "execution_count": null,
   "metadata": {
    "collapsed": true
   },
   "outputs": [],
   "source": [
    "def meal(name, min_occurence=2, min_ing=5):\n",
    "    re = recipes_enrichment(name, min_occurence=min_occurence, min_ing=min_ing)\n",
    "    if len(re):\n",
    "        return ingredients_enrichment(re[0]), re[0]['_source']['name']\n",
    "    return None"
   ]
  },
  {
   "cell_type": "code",
   "execution_count": null,
   "metadata": {
    "collapsed": true
   },
   "outputs": [],
   "source": []
  },
  {
   "cell_type": "code",
   "execution_count": null,
   "metadata": {
    "collapsed": false
   },
   "outputs": [],
   "source": [
    "def resto(rest):\n",
    "    \n",
    "    bilan = {\n",
    "        'id': rest.meta.id,\n",
    "        'name': rest.name,\n",
    "        'analysis': []\n",
    "    }\n",
    "    \n",
    "    total = []\n",
    "    \n",
    "    if 'starters' in rest:\n",
    "        local = []\n",
    "        for m in rest.starters:\n",
    "            #print(m.name)\n",
    "            nutriments, match = meal(m['name'])\n",
    "            \n",
    "            local.append(nutriments)\n",
    "            total.append(nutriments)\n",
    "            bilan['analysis'].append({\n",
    "                'name': m.name,\n",
    "                'match': match,\n",
    "                'price': m.price,\n",
    "                'nutriments': nutriments,\n",
    "                'cat': 'starters'\n",
    "            })\n",
    "        bilan['starters'] = merge_nutriments(local, avg=True)\n",
    "    \n",
    "    if 'mains' in rest:\n",
    "        local = []\n",
    "        for m in rest.mains:\n",
    "            #print(m.name)\n",
    "            nutriments, match = meal(m['name'])\n",
    "            \n",
    "            local.append(nutriments)\n",
    "            total.append(nutriments)\n",
    "            bilan['analysis'].append({\n",
    "                'name': m.name,\n",
    "                'match': match,\n",
    "                'price': m.price,\n",
    "                'nutriments': nutriments,\n",
    "                'cat': 'mains'\n",
    "            })\n",
    "        bilan['mains'] = merge_nutriments(local, avg=True)\n",
    "        \n",
    "    if 'desserts' in rest:\n",
    "        local = []\n",
    "        for m in rest.desserts:\n",
    "            #print(m.name)\n",
    "            nutriments, match = meal(m['name'])\n",
    "            \n",
    "            local.append(nutriments)\n",
    "            total.append(nutriments)\n",
    "            bilan['analysis'].append({\n",
    "                'name': m.name,\n",
    "                'match': match,\n",
    "                'price': m.price,\n",
    "                'nutriments': nutriments,\n",
    "                'cat': 'desserts'\n",
    "            })\n",
    "        bilan['desserts'] = merge_nutriments(local, avg=True)\n",
    "    \n",
    "    bilan['total'] = merge_nutriments(total, avg=True)\n",
    "    return bilan"
   ]
  },
  {
   "cell_type": "code",
   "execution_count": null,
   "metadata": {
    "collapsed": false
   },
   "outputs": [],
   "source": [
    "for r in tqdm(restaurants):\n",
    "    try:\n",
    "        src = resto(r)\n",
    "        fmt = {\n",
    "            '_index': 'analysis',\n",
    "            '_type': 'fst',\n",
    "            '_source': src\n",
    "        }\n",
    "        eshelper.bulk(client, [fmt])\n",
    "    except Exception as e:\n",
    "        if 'name' in r:\n",
    "            print(r.name)\n",
    "        print(e)\n",
    "        print('===')"
   ]
  },
  {
   "cell_type": "code",
   "execution_count": null,
   "metadata": {
    "collapsed": true
   },
   "outputs": [],
   "source": []
  }
 ],
 "metadata": {
  "kernelspec": {
   "display_name": "Python 3",
   "language": "python",
   "name": "python3"
  },
  "language_info": {
   "codemirror_mode": {
    "name": "ipython",
    "version": 3
   },
   "file_extension": ".py",
   "mimetype": "text/x-python",
   "name": "python",
   "nbconvert_exporter": "python",
   "pygments_lexer": "ipython3",
   "version": "3.6.0"
  }
 },
 "nbformat": 4,
 "nbformat_minor": 2
}
