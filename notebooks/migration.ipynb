{
 "cells": [
  {
   "cell_type": "code",
   "execution_count": null,
   "metadata": {
    "collapsed": false
   },
   "outputs": [],
   "source": [
    "import pandas as pd\n",
    "import numpy as np\n",
    "import sqlalchemy\n",
    "import re\n",
    "from elasticsearch import Elasticsearch\n",
    "from elasticsearch import helpers as eshelper\n",
    "from tqdm import tqdm"
   ]
  },
  {
   "cell_type": "code",
   "execution_count": null,
   "metadata": {
    "collapsed": false
   },
   "outputs": [],
   "source": [
    "db = sqlalchemy.create_engine('postgresql://postgres@localhost:5432/postgres', client_encoding='utf8')"
   ]
  },
  {
   "cell_type": "code",
   "execution_count": null,
   "metadata": {
    "collapsed": false
   },
   "outputs": [],
   "source": [
    "categories = pd.read_sql_table('categories', db)\n",
    "categories.head()"
   ]
  },
  {
   "cell_type": "code",
   "execution_count": null,
   "metadata": {
    "collapsed": false
   },
   "outputs": [],
   "source": [
    "categorisations = pd.read_sql_table('categorisations', db)\n",
    "categorisations.head()"
   ]
  },
  {
   "cell_type": "code",
   "execution_count": null,
   "metadata": {
    "collapsed": false
   },
   "outputs": [],
   "source": [
    "images = pd.read_sql_table('images', db)\n",
    "images.head()"
   ]
  },
  {
   "cell_type": "code",
   "execution_count": null,
   "metadata": {
    "collapsed": false
   },
   "outputs": [],
   "source": [
    "nutrients = pd.read_sql_table('nutrients', db).fillna(0)\n",
    "nutrients.head()"
   ]
  },
  {
   "cell_type": "code",
   "execution_count": null,
   "metadata": {
    "collapsed": false,
    "scrolled": true
   },
   "outputs": [],
   "source": [
    "product_nutrients = pd.read_sql_table('product_nutrients', db).fillna(0)\n",
    "product_nutrients.head()"
   ]
  },
  {
   "cell_type": "code",
   "execution_count": null,
   "metadata": {
    "collapsed": false
   },
   "outputs": [],
   "source": [
    "products = pd.read_sql_table('products', db).fillna(0)\n",
    "products.head()"
   ]
  },
  {
   "cell_type": "code",
   "execution_count": null,
   "metadata": {
    "collapsed": false
   },
   "outputs": [],
   "source": [
    "entries = []\n",
    "for i, product in tqdm(products.iterrows()):\n",
    "    name = product.name_translations.get('fr')\n",
    "    \n",
    "    if name:\n",
    "    \n",
    "        nuts = []\n",
    "        mapping = product_nutrients[product_nutrients.product_id == product.id]\n",
    "        for i, m in mapping.iterrows():\n",
    "\n",
    "            nut = nutrients[nutrients.id == m.nutrient_id]\n",
    "            nuts.append({\n",
    "                'name': nut.name_translations.values[0]['fr'],\n",
    "                'unit': nut.unit.values[0],\n",
    "                'rdi': np.nan_to_num(nut.rdi.values[0]),\n",
    "                'per_day': np.nan_to_num(m.per_day),\n",
    "                'per_hundred': np.nan_to_num(m.per_hundred),\n",
    "                'per_portion': np.nan_to_num(m.per_portion),\n",
    "            })\n",
    "\n",
    "        if len(nuts):\n",
    "            fmt = {\n",
    "                '_index': 'products',\n",
    "                '_type': 'openfood',\n",
    "                '_id': product.id,\n",
    "                '_source': {\n",
    "                    'name': name,\n",
    "                    'unit': product.unit,\n",
    "                    'quantity': product.quantity,\n",
    "                    'unit_portion': product.portion_quantity,\n",
    "                    'unit_quantity': product.portion_unit,\n",
    "                    'nutriments': nuts\n",
    "                }\n",
    "            }\n",
    "\n",
    "            entries.append(fmt)\n",
    "        \n",
    "len(entries)"
   ]
  },
  {
   "cell_type": "code",
   "execution_count": null,
   "metadata": {
    "collapsed": false
   },
   "outputs": [],
   "source": [
    "entries[0]"
   ]
  },
  {
   "cell_type": "code",
   "execution_count": null,
   "metadata": {
    "collapsed": false
   },
   "outputs": [],
   "source": [
    "client = Elasticsearch()"
   ]
  },
  {
   "cell_type": "code",
   "execution_count": null,
   "metadata": {
    "collapsed": false
   },
   "outputs": [],
   "source": [
    "eshelper.bulk(client, entries)"
   ]
  },
  {
   "cell_type": "code",
   "execution_count": null,
   "metadata": {
    "collapsed": true
   },
   "outputs": [],
   "source": []
  }
 ],
 "metadata": {
  "kernelspec": {
   "display_name": "Python 3",
   "language": "python",
   "name": "python3"
  },
  "language_info": {
   "codemirror_mode": {
    "name": "ipython",
    "version": 3
   },
   "file_extension": ".py",
   "mimetype": "text/x-python",
   "name": "python",
   "nbconvert_exporter": "python",
   "pygments_lexer": "ipython3",
   "version": "3.6.0"
  }
 },
 "nbformat": 4,
 "nbformat_minor": 2
}
