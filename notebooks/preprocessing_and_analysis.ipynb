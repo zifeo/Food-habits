{
 "cells": [
  {
   "cell_type": "code",
   "execution_count": 1,
   "metadata": {
    "collapsed": true
   },
   "outputs": [],
   "source": [
    "import pandas as pd\n",
    "import numpy as np\n",
    "import json"
   ]
  },
  {
   "cell_type": "code",
   "execution_count": 2,
   "metadata": {
    "collapsed": false
   },
   "outputs": [],
   "source": [
    "df_ch = pd.read_json(\"../data/parsed_ch.json\").transpose()\n",
    "df_com0 = pd.read_json(\"../data/parsed_com0.json\").transpose()\n",
    "df_com1 = pd.read_json(\"../data/parsed_com1.json\").transpose()\n",
    "df_com2 = pd.read_json(\"../data/parsed_com2.json\").transpose()\n",
    "df_com3 = pd.read_json(\"../data/parsed_com3.json\").transpose()"
   ]
  },
  {
   "cell_type": "code",
   "execution_count": 3,
   "metadata": {
    "collapsed": false
   },
   "outputs": [
    {
     "data": {
      "text/html": [
       "<div>\n",
       "<table border=\"1\" class=\"dataframe\">\n",
       "  <thead>\n",
       "    <tr style=\"text-align: right;\">\n",
       "      <th></th>\n",
       "      <th>address</th>\n",
       "      <th>avg-price</th>\n",
       "      <th>chef-name</th>\n",
       "      <th>currency</th>\n",
       "      <th>description</th>\n",
       "      <th>drinks</th>\n",
       "      <th>gps</th>\n",
       "      <th>menu</th>\n",
       "      <th>name</th>\n",
       "      <th>ratings</th>\n",
       "      <th>reviews</th>\n",
       "      <th>schedule</th>\n",
       "      <th>summary-ratings</th>\n",
       "    </tr>\n",
       "  </thead>\n",
       "  <tbody>\n",
       "    <tr>\n",
       "      <th>https://www.lafourchette.ch/restaurant/1-cafe-du-marche/34977</th>\n",
       "      <td>{'street': 'Place du marché 1', 'city': 'Renen...</td>\n",
       "      <td>34</td>\n",
       "      <td>None</td>\n",
       "      <td>CHF</td>\n",
       "      <td>[AMBIANCE VINTAGE – Au cœur de Renens, le 1 Ca...</td>\n",
       "      <td>{'Café': 3.0, 'Coupe de champagne': 15.0, 'Ver...</td>\n",
       "      <td>{'lat': 46.536869692575, 'lng': 6.584780216217}</td>\n",
       "      <td>{'Dessert': {'Fondant au Toblerone tiède servi...</td>\n",
       "      <td>1, Café du Marché</td>\n",
       "      <td>{'rating-list': {}, 'stats': {'Qualité/prix': ...</td>\n",
       "      <td>[{'ratings': {'Cadre': 10, 'Service': 8, 'Cuis...</td>\n",
       "      <td>[Midi : de 11h à 13h30 (du lundi au samedi), S...</td>\n",
       "      <td>{'review-count': 97, 'data-score-': 8.4, 'aver...</td>\n",
       "    </tr>\n",
       "    <tr>\n",
       "      <th>https://www.lafourchette.ch/restaurant/207-cafe/63275</th>\n",
       "      <td>{'street': 'Route de Ferney 207, Grand-Saconne...</td>\n",
       "      <td>52</td>\n",
       "      <td>None</td>\n",
       "      <td>CHF</td>\n",
       "      <td>[UNE BELLE TABLE PROCHE DE L'AÉROPORT - Le 207...</td>\n",
       "      <td>{'Bouteille de vin': 32.0, 'Café': 34.0, 'Demi...</td>\n",
       "      <td>{'lat': 46.2393855, 'lng': 6.1227483}</td>\n",
       "      <td>{'Dessert': {'Crème brûlée à la poire': 9.0, '...</td>\n",
       "      <td>207 Café</td>\n",
       "      <td>None</td>\n",
       "      <td>None</td>\n",
       "      <td>[Déjeuner : de 12h à 14h00 (du lundi au vendre...</td>\n",
       "      <td>None</td>\n",
       "    </tr>\n",
       "    <tr>\n",
       "      <th>https://www.lafourchette.ch/restaurant/22-grand-rue/215205</th>\n",
       "      <td>{'street': 'Grand-Rue 22', 'city': 'Genève', '...</td>\n",
       "      <td>25</td>\n",
       "      <td>None</td>\n",
       "      <td>CHF</td>\n",
       "      <td>[LA PRÉSENTATION – Lorsque vous irez manger da...</td>\n",
       "      <td>{'Café': 35.0, 'Bouteille de champagne': 100.0...</td>\n",
       "      <td>{'lat': 46.2018732, 'lng': 6.1458846}</td>\n",
       "      <td>{'Desserts': {'Cheesecake au Nutella': 9.0, 'C...</td>\n",
       "      <td>22 Grand'Rue</td>\n",
       "      <td>None</td>\n",
       "      <td>None</td>\n",
       "      <td>[Midi : de 12h à 14h30 (sauf samedi et dimanche)]</td>\n",
       "      <td>None</td>\n",
       "    </tr>\n",
       "    <tr>\n",
       "      <th>https://www.lafourchette.ch/restaurant/2eme-acte/20055</th>\n",
       "      <td>{'street': 'Rue de la Paix 1', 'city': 'Gland'...</td>\n",
       "      <td>23</td>\n",
       "      <td>None</td>\n",
       "      <td>CHF</td>\n",
       "      <td>[BAR À TAPAS -  Vous cherchez un lieu tendance...</td>\n",
       "      <td>{'Bouteille de vin': 32.0, 'Café': 35.0, 'Demi...</td>\n",
       "      <td>{'lat': 46.420353737372, 'lng': 6.2632699012756}</td>\n",
       "      <td>{'Dessert': {'Délices de framboises': 11.5, 'M...</td>\n",
       "      <td>2ème Acte</td>\n",
       "      <td>{'rating-list': {}, 'stats': {'Qualité/prix': ...</td>\n",
       "      <td>[{'ratings': {'Cadre': 6, 'Service': 10, 'Cuis...</td>\n",
       "      <td>[Déjeuner : de 11h30 à 14h (du lundi au vendre...</td>\n",
       "      <td>{'review-count': 161, 'data-score-': 8.3, 'ave...</td>\n",
       "    </tr>\n",
       "    <tr>\n",
       "      <th>https://www.lafourchette.ch/restaurant/a-l-etage-du-parc-des-eaux-vives/18532</th>\n",
       "      <td>{'street': 'Quai Gustave-Ador 82', 'city': 'Ge...</td>\n",
       "      <td>73</td>\n",
       "      <td>None</td>\n",
       "      <td>CHF</td>\n",
       "      <td>[CADRE HISTORIQUE – À quelques pas du centre-v...</td>\n",
       "      <td>None</td>\n",
       "      <td>{'lat': 46.207617632506, 'lng': 6.1695799827576}</td>\n",
       "      <td>{'Dessert': {'Assortiment de fromages bio': 19...</td>\n",
       "      <td>À l'Étage du Parc des Eaux Vives</td>\n",
       "      <td>{'rating-list': {}, 'stats': None, 'avg-rating...</td>\n",
       "      <td>[{'ratings': {'Cadre': 10, 'Service': 8, 'Cuis...</td>\n",
       "      <td>[Dîner : de 19h à 22h30 (sauf dimanche et lundi)]</td>\n",
       "      <td>None</td>\n",
       "    </tr>\n",
       "  </tbody>\n",
       "</table>\n",
       "</div>"
      ],
      "text/plain": [
       "                                                                                              address  \\\n",
       "https://www.lafourchette.ch/restaurant/1-cafe-d...  {'street': 'Place du marché 1', 'city': 'Renen...   \n",
       "https://www.lafourchette.ch/restaurant/207-cafe...  {'street': 'Route de Ferney 207, Grand-Saconne...   \n",
       "https://www.lafourchette.ch/restaurant/22-grand...  {'street': 'Grand-Rue 22', 'city': 'Genève', '...   \n",
       "https://www.lafourchette.ch/restaurant/2eme-act...  {'street': 'Rue de la Paix 1', 'city': 'Gland'...   \n",
       "https://www.lafourchette.ch/restaurant/a-l-etag...  {'street': 'Quai Gustave-Ador 82', 'city': 'Ge...   \n",
       "\n",
       "                                                   avg-price chef-name  \\\n",
       "https://www.lafourchette.ch/restaurant/1-cafe-d...        34      None   \n",
       "https://www.lafourchette.ch/restaurant/207-cafe...        52      None   \n",
       "https://www.lafourchette.ch/restaurant/22-grand...        25      None   \n",
       "https://www.lafourchette.ch/restaurant/2eme-act...        23      None   \n",
       "https://www.lafourchette.ch/restaurant/a-l-etag...        73      None   \n",
       "\n",
       "                                                   currency  \\\n",
       "https://www.lafourchette.ch/restaurant/1-cafe-d...      CHF   \n",
       "https://www.lafourchette.ch/restaurant/207-cafe...      CHF   \n",
       "https://www.lafourchette.ch/restaurant/22-grand...      CHF   \n",
       "https://www.lafourchette.ch/restaurant/2eme-act...      CHF   \n",
       "https://www.lafourchette.ch/restaurant/a-l-etag...      CHF   \n",
       "\n",
       "                                                                                          description  \\\n",
       "https://www.lafourchette.ch/restaurant/1-cafe-d...  [AMBIANCE VINTAGE – Au cœur de Renens, le 1 Ca...   \n",
       "https://www.lafourchette.ch/restaurant/207-cafe...  [UNE BELLE TABLE PROCHE DE L'AÉROPORT - Le 207...   \n",
       "https://www.lafourchette.ch/restaurant/22-grand...  [LA PRÉSENTATION – Lorsque vous irez manger da...   \n",
       "https://www.lafourchette.ch/restaurant/2eme-act...  [BAR À TAPAS -  Vous cherchez un lieu tendance...   \n",
       "https://www.lafourchette.ch/restaurant/a-l-etag...  [CADRE HISTORIQUE – À quelques pas du centre-v...   \n",
       "\n",
       "                                                                                               drinks  \\\n",
       "https://www.lafourchette.ch/restaurant/1-cafe-d...  {'Café': 3.0, 'Coupe de champagne': 15.0, 'Ver...   \n",
       "https://www.lafourchette.ch/restaurant/207-cafe...  {'Bouteille de vin': 32.0, 'Café': 34.0, 'Demi...   \n",
       "https://www.lafourchette.ch/restaurant/22-grand...  {'Café': 35.0, 'Bouteille de champagne': 100.0...   \n",
       "https://www.lafourchette.ch/restaurant/2eme-act...  {'Bouteille de vin': 32.0, 'Café': 35.0, 'Demi...   \n",
       "https://www.lafourchette.ch/restaurant/a-l-etag...                                               None   \n",
       "\n",
       "                                                                                                 gps  \\\n",
       "https://www.lafourchette.ch/restaurant/1-cafe-d...   {'lat': 46.536869692575, 'lng': 6.584780216217}   \n",
       "https://www.lafourchette.ch/restaurant/207-cafe...             {'lat': 46.2393855, 'lng': 6.1227483}   \n",
       "https://www.lafourchette.ch/restaurant/22-grand...             {'lat': 46.2018732, 'lng': 6.1458846}   \n",
       "https://www.lafourchette.ch/restaurant/2eme-act...  {'lat': 46.420353737372, 'lng': 6.2632699012756}   \n",
       "https://www.lafourchette.ch/restaurant/a-l-etag...  {'lat': 46.207617632506, 'lng': 6.1695799827576}   \n",
       "\n",
       "                                                                                                 menu  \\\n",
       "https://www.lafourchette.ch/restaurant/1-cafe-d...  {'Dessert': {'Fondant au Toblerone tiède servi...   \n",
       "https://www.lafourchette.ch/restaurant/207-cafe...  {'Dessert': {'Crème brûlée à la poire': 9.0, '...   \n",
       "https://www.lafourchette.ch/restaurant/22-grand...  {'Desserts': {'Cheesecake au Nutella': 9.0, 'C...   \n",
       "https://www.lafourchette.ch/restaurant/2eme-act...  {'Dessert': {'Délices de framboises': 11.5, 'M...   \n",
       "https://www.lafourchette.ch/restaurant/a-l-etag...  {'Dessert': {'Assortiment de fromages bio': 19...   \n",
       "\n",
       "                                                                                name  \\\n",
       "https://www.lafourchette.ch/restaurant/1-cafe-d...                 1, Café du Marché   \n",
       "https://www.lafourchette.ch/restaurant/207-cafe...                          207 Café   \n",
       "https://www.lafourchette.ch/restaurant/22-grand...                      22 Grand'Rue   \n",
       "https://www.lafourchette.ch/restaurant/2eme-act...                         2ème Acte   \n",
       "https://www.lafourchette.ch/restaurant/a-l-etag...  À l'Étage du Parc des Eaux Vives   \n",
       "\n",
       "                                                                                              ratings  \\\n",
       "https://www.lafourchette.ch/restaurant/1-cafe-d...  {'rating-list': {}, 'stats': {'Qualité/prix': ...   \n",
       "https://www.lafourchette.ch/restaurant/207-cafe...                                               None   \n",
       "https://www.lafourchette.ch/restaurant/22-grand...                                               None   \n",
       "https://www.lafourchette.ch/restaurant/2eme-act...  {'rating-list': {}, 'stats': {'Qualité/prix': ...   \n",
       "https://www.lafourchette.ch/restaurant/a-l-etag...  {'rating-list': {}, 'stats': None, 'avg-rating...   \n",
       "\n",
       "                                                                                              reviews  \\\n",
       "https://www.lafourchette.ch/restaurant/1-cafe-d...  [{'ratings': {'Cadre': 10, 'Service': 8, 'Cuis...   \n",
       "https://www.lafourchette.ch/restaurant/207-cafe...                                               None   \n",
       "https://www.lafourchette.ch/restaurant/22-grand...                                               None   \n",
       "https://www.lafourchette.ch/restaurant/2eme-act...  [{'ratings': {'Cadre': 6, 'Service': 10, 'Cuis...   \n",
       "https://www.lafourchette.ch/restaurant/a-l-etag...  [{'ratings': {'Cadre': 10, 'Service': 8, 'Cuis...   \n",
       "\n",
       "                                                                                             schedule  \\\n",
       "https://www.lafourchette.ch/restaurant/1-cafe-d...  [Midi : de 11h à 13h30 (du lundi au samedi), S...   \n",
       "https://www.lafourchette.ch/restaurant/207-cafe...  [Déjeuner : de 12h à 14h00 (du lundi au vendre...   \n",
       "https://www.lafourchette.ch/restaurant/22-grand...  [Midi : de 12h à 14h30 (sauf samedi et dimanche)]   \n",
       "https://www.lafourchette.ch/restaurant/2eme-act...  [Déjeuner : de 11h30 à 14h (du lundi au vendre...   \n",
       "https://www.lafourchette.ch/restaurant/a-l-etag...  [Dîner : de 19h à 22h30 (sauf dimanche et lundi)]   \n",
       "\n",
       "                                                                                      summary-ratings  \n",
       "https://www.lafourchette.ch/restaurant/1-cafe-d...  {'review-count': 97, 'data-score-': 8.4, 'aver...  \n",
       "https://www.lafourchette.ch/restaurant/207-cafe...                                               None  \n",
       "https://www.lafourchette.ch/restaurant/22-grand...                                               None  \n",
       "https://www.lafourchette.ch/restaurant/2eme-act...  {'review-count': 161, 'data-score-': 8.3, 'ave...  \n",
       "https://www.lafourchette.ch/restaurant/a-l-etag...                                               None  "
      ]
     },
     "execution_count": 3,
     "metadata": {},
     "output_type": "execute_result"
    }
   ],
   "source": [
    "df = pd.concat([df_ch, df_com0])#, df_com1, df_com2, df_com3])\n",
    "df.head()"
   ]
  },
  {
   "cell_type": "code",
   "execution_count": 4,
   "metadata": {
    "collapsed": false
   },
   "outputs": [
    {
     "data": {
      "text/plain": [
       "(3004, 13)"
      ]
     },
     "execution_count": 4,
     "metadata": {},
     "output_type": "execute_result"
    }
   ],
   "source": [
    "df.shape"
   ]
  },
  {
   "cell_type": "markdown",
   "metadata": {},
   "source": [
    "## Clean-up"
   ]
  },
  {
   "cell_type": "markdown",
   "metadata": {},
   "source": [
    "### ID clean-up"
   ]
  },
  {
   "cell_type": "markdown",
   "metadata": {},
   "source": [
    "structure : `['https:', '', 'www.lafourchette.com', 'restaurant', 'joe-s', '218659']`"
   ]
  },
  {
   "cell_type": "code",
   "execution_count": 5,
   "metadata": {
    "collapsed": false
   },
   "outputs": [],
   "source": [
    "restaurant_ids = []\n",
    "restaurant_names = []\n",
    "websites = []\n",
    "\n",
    "for link in df.index.values:\n",
    "    link_split = link.split(\"/\")\n",
    "    websites.append(link_split[2])\n",
    "    restaurant_names.append(link_split[-2])\n",
    "    restaurant_ids.append(link_split[-1])"
   ]
  },
  {
   "cell_type": "code",
   "execution_count": 6,
   "metadata": {
    "collapsed": false
   },
   "outputs": [
    {
     "data": {
      "text/plain": [
       "True"
      ]
     },
     "execution_count": 6,
     "metadata": {},
     "output_type": "execute_result"
    }
   ],
   "source": [
    "len(np.unique(restaurant_ids)) == len(restaurant_ids)"
   ]
  },
  {
   "cell_type": "code",
   "execution_count": 7,
   "metadata": {
    "collapsed": false
   },
   "outputs": [],
   "source": [
    "df = df.set_index([restaurant_ids])"
   ]
  },
  {
   "cell_type": "code",
   "execution_count": 8,
   "metadata": {
    "collapsed": false
   },
   "outputs": [
    {
     "data": {
      "text/plain": [
       "array(['www.lafourchette.ch', 'www.lafourchette.com'], \n",
       "      dtype='<U20')"
      ]
     },
     "execution_count": 8,
     "metadata": {},
     "output_type": "execute_result"
    }
   ],
   "source": [
    "np.unique(websites)"
   ]
  },
  {
   "cell_type": "code",
   "execution_count": 9,
   "metadata": {
    "collapsed": false
   },
   "outputs": [
    {
     "data": {
      "text/html": [
       "<div>\n",
       "<table border=\"1\" class=\"dataframe\">\n",
       "  <thead>\n",
       "    <tr style=\"text-align: right;\">\n",
       "      <th></th>\n",
       "      <th>address</th>\n",
       "      <th>avg-price</th>\n",
       "      <th>chef-name</th>\n",
       "      <th>currency</th>\n",
       "      <th>description</th>\n",
       "      <th>drinks</th>\n",
       "      <th>gps</th>\n",
       "      <th>menu</th>\n",
       "      <th>name</th>\n",
       "      <th>ratings</th>\n",
       "      <th>reviews</th>\n",
       "      <th>schedule</th>\n",
       "      <th>summary-ratings</th>\n",
       "    </tr>\n",
       "  </thead>\n",
       "  <tbody>\n",
       "    <tr>\n",
       "      <th>34977</th>\n",
       "      <td>{'street': 'Place du marché 1', 'city': 'Renen...</td>\n",
       "      <td>34</td>\n",
       "      <td>None</td>\n",
       "      <td>CHF</td>\n",
       "      <td>[AMBIANCE VINTAGE – Au cœur de Renens, le 1 Ca...</td>\n",
       "      <td>{'Café': 3.0, 'Coupe de champagne': 15.0, 'Ver...</td>\n",
       "      <td>{'lat': 46.536869692575, 'lng': 6.584780216217}</td>\n",
       "      <td>{'Dessert': {'Fondant au Toblerone tiède servi...</td>\n",
       "      <td>1, Café du Marché</td>\n",
       "      <td>{'rating-list': {}, 'stats': {'Qualité/prix': ...</td>\n",
       "      <td>[{'ratings': {'Cadre': 10, 'Service': 8, 'Cuis...</td>\n",
       "      <td>[Midi : de 11h à 13h30 (du lundi au samedi), S...</td>\n",
       "      <td>{'review-count': 97, 'data-score-': 8.4, 'aver...</td>\n",
       "    </tr>\n",
       "    <tr>\n",
       "      <th>63275</th>\n",
       "      <td>{'street': 'Route de Ferney 207, Grand-Saconne...</td>\n",
       "      <td>52</td>\n",
       "      <td>None</td>\n",
       "      <td>CHF</td>\n",
       "      <td>[UNE BELLE TABLE PROCHE DE L'AÉROPORT - Le 207...</td>\n",
       "      <td>{'Bouteille de vin': 32.0, 'Café': 34.0, 'Demi...</td>\n",
       "      <td>{'lat': 46.2393855, 'lng': 6.1227483}</td>\n",
       "      <td>{'Dessert': {'Crème brûlée à la poire': 9.0, '...</td>\n",
       "      <td>207 Café</td>\n",
       "      <td>None</td>\n",
       "      <td>None</td>\n",
       "      <td>[Déjeuner : de 12h à 14h00 (du lundi au vendre...</td>\n",
       "      <td>None</td>\n",
       "    </tr>\n",
       "    <tr>\n",
       "      <th>215205</th>\n",
       "      <td>{'street': 'Grand-Rue 22', 'city': 'Genève', '...</td>\n",
       "      <td>25</td>\n",
       "      <td>None</td>\n",
       "      <td>CHF</td>\n",
       "      <td>[LA PRÉSENTATION – Lorsque vous irez manger da...</td>\n",
       "      <td>{'Café': 35.0, 'Bouteille de champagne': 100.0...</td>\n",
       "      <td>{'lat': 46.2018732, 'lng': 6.1458846}</td>\n",
       "      <td>{'Desserts': {'Cheesecake au Nutella': 9.0, 'C...</td>\n",
       "      <td>22 Grand'Rue</td>\n",
       "      <td>None</td>\n",
       "      <td>None</td>\n",
       "      <td>[Midi : de 12h à 14h30 (sauf samedi et dimanche)]</td>\n",
       "      <td>None</td>\n",
       "    </tr>\n",
       "    <tr>\n",
       "      <th>20055</th>\n",
       "      <td>{'street': 'Rue de la Paix 1', 'city': 'Gland'...</td>\n",
       "      <td>23</td>\n",
       "      <td>None</td>\n",
       "      <td>CHF</td>\n",
       "      <td>[BAR À TAPAS -  Vous cherchez un lieu tendance...</td>\n",
       "      <td>{'Bouteille de vin': 32.0, 'Café': 35.0, 'Demi...</td>\n",
       "      <td>{'lat': 46.420353737372, 'lng': 6.2632699012756}</td>\n",
       "      <td>{'Dessert': {'Délices de framboises': 11.5, 'M...</td>\n",
       "      <td>2ème Acte</td>\n",
       "      <td>{'rating-list': {}, 'stats': {'Qualité/prix': ...</td>\n",
       "      <td>[{'ratings': {'Cadre': 6, 'Service': 10, 'Cuis...</td>\n",
       "      <td>[Déjeuner : de 11h30 à 14h (du lundi au vendre...</td>\n",
       "      <td>{'review-count': 161, 'data-score-': 8.3, 'ave...</td>\n",
       "    </tr>\n",
       "    <tr>\n",
       "      <th>18532</th>\n",
       "      <td>{'street': 'Quai Gustave-Ador 82', 'city': 'Ge...</td>\n",
       "      <td>73</td>\n",
       "      <td>None</td>\n",
       "      <td>CHF</td>\n",
       "      <td>[CADRE HISTORIQUE – À quelques pas du centre-v...</td>\n",
       "      <td>None</td>\n",
       "      <td>{'lat': 46.207617632506, 'lng': 6.1695799827576}</td>\n",
       "      <td>{'Dessert': {'Assortiment de fromages bio': 19...</td>\n",
       "      <td>À l'Étage du Parc des Eaux Vives</td>\n",
       "      <td>{'rating-list': {}, 'stats': None, 'avg-rating...</td>\n",
       "      <td>[{'ratings': {'Cadre': 10, 'Service': 8, 'Cuis...</td>\n",
       "      <td>[Dîner : de 19h à 22h30 (sauf dimanche et lundi)]</td>\n",
       "      <td>None</td>\n",
       "    </tr>\n",
       "  </tbody>\n",
       "</table>\n",
       "</div>"
      ],
      "text/plain": [
       "                                                  address avg-price chef-name  \\\n",
       "34977   {'street': 'Place du marché 1', 'city': 'Renen...        34      None   \n",
       "63275   {'street': 'Route de Ferney 207, Grand-Saconne...        52      None   \n",
       "215205  {'street': 'Grand-Rue 22', 'city': 'Genève', '...        25      None   \n",
       "20055   {'street': 'Rue de la Paix 1', 'city': 'Gland'...        23      None   \n",
       "18532   {'street': 'Quai Gustave-Ador 82', 'city': 'Ge...        73      None   \n",
       "\n",
       "       currency                                        description  \\\n",
       "34977       CHF  [AMBIANCE VINTAGE – Au cœur de Renens, le 1 Ca...   \n",
       "63275       CHF  [UNE BELLE TABLE PROCHE DE L'AÉROPORT - Le 207...   \n",
       "215205      CHF  [LA PRÉSENTATION – Lorsque vous irez manger da...   \n",
       "20055       CHF  [BAR À TAPAS -  Vous cherchez un lieu tendance...   \n",
       "18532       CHF  [CADRE HISTORIQUE – À quelques pas du centre-v...   \n",
       "\n",
       "                                                   drinks  \\\n",
       "34977   {'Café': 3.0, 'Coupe de champagne': 15.0, 'Ver...   \n",
       "63275   {'Bouteille de vin': 32.0, 'Café': 34.0, 'Demi...   \n",
       "215205  {'Café': 35.0, 'Bouteille de champagne': 100.0...   \n",
       "20055   {'Bouteille de vin': 32.0, 'Café': 35.0, 'Demi...   \n",
       "18532                                                None   \n",
       "\n",
       "                                                     gps  \\\n",
       "34977    {'lat': 46.536869692575, 'lng': 6.584780216217}   \n",
       "63275              {'lat': 46.2393855, 'lng': 6.1227483}   \n",
       "215205             {'lat': 46.2018732, 'lng': 6.1458846}   \n",
       "20055   {'lat': 46.420353737372, 'lng': 6.2632699012756}   \n",
       "18532   {'lat': 46.207617632506, 'lng': 6.1695799827576}   \n",
       "\n",
       "                                                     menu  \\\n",
       "34977   {'Dessert': {'Fondant au Toblerone tiède servi...   \n",
       "63275   {'Dessert': {'Crème brûlée à la poire': 9.0, '...   \n",
       "215205  {'Desserts': {'Cheesecake au Nutella': 9.0, 'C...   \n",
       "20055   {'Dessert': {'Délices de framboises': 11.5, 'M...   \n",
       "18532   {'Dessert': {'Assortiment de fromages bio': 19...   \n",
       "\n",
       "                                    name  \\\n",
       "34977                  1, Café du Marché   \n",
       "63275                           207 Café   \n",
       "215205                      22 Grand'Rue   \n",
       "20055                          2ème Acte   \n",
       "18532   À l'Étage du Parc des Eaux Vives   \n",
       "\n",
       "                                                  ratings  \\\n",
       "34977   {'rating-list': {}, 'stats': {'Qualité/prix': ...   \n",
       "63275                                                None   \n",
       "215205                                               None   \n",
       "20055   {'rating-list': {}, 'stats': {'Qualité/prix': ...   \n",
       "18532   {'rating-list': {}, 'stats': None, 'avg-rating...   \n",
       "\n",
       "                                                  reviews  \\\n",
       "34977   [{'ratings': {'Cadre': 10, 'Service': 8, 'Cuis...   \n",
       "63275                                                None   \n",
       "215205                                               None   \n",
       "20055   [{'ratings': {'Cadre': 6, 'Service': 10, 'Cuis...   \n",
       "18532   [{'ratings': {'Cadre': 10, 'Service': 8, 'Cuis...   \n",
       "\n",
       "                                                 schedule  \\\n",
       "34977   [Midi : de 11h à 13h30 (du lundi au samedi), S...   \n",
       "63275   [Déjeuner : de 12h à 14h00 (du lundi au vendre...   \n",
       "215205  [Midi : de 12h à 14h30 (sauf samedi et dimanche)]   \n",
       "20055   [Déjeuner : de 11h30 à 14h (du lundi au vendre...   \n",
       "18532   [Dîner : de 19h à 22h30 (sauf dimanche et lundi)]   \n",
       "\n",
       "                                          summary-ratings  \n",
       "34977   {'review-count': 97, 'data-score-': 8.4, 'aver...  \n",
       "63275                                                None  \n",
       "215205                                               None  \n",
       "20055   {'review-count': 161, 'data-score-': 8.3, 'ave...  \n",
       "18532                                                None  "
      ]
     },
     "execution_count": 9,
     "metadata": {},
     "output_type": "execute_result"
    }
   ],
   "source": [
    "df.head()"
   ]
  },
  {
   "cell_type": "code",
   "execution_count": 10,
   "metadata": {
    "collapsed": false
   },
   "outputs": [
    {
     "data": {
      "text/plain": [
       "(3004, 13)"
      ]
     },
     "execution_count": 10,
     "metadata": {},
     "output_type": "execute_result"
    }
   ],
   "source": [
    "df.shape"
   ]
  },
  {
   "cell_type": "markdown",
   "metadata": {},
   "source": [
    "### Address clean-up"
   ]
  },
  {
   "cell_type": "markdown",
   "metadata": {},
   "source": [
    "structure : {'country': 'Suisse', 'city': 'Renens', 'ZIP': '1020', 'street': 'Place du marché 1'}"
   ]
  },
  {
   "cell_type": "code",
   "execution_count": 11,
   "metadata": {
    "collapsed": false
   },
   "outputs": [
    {
     "data": {
      "text/html": [
       "<div>\n",
       "<table border=\"1\" class=\"dataframe\">\n",
       "  <thead>\n",
       "    <tr style=\"text-align: right;\">\n",
       "      <th></th>\n",
       "      <th>address</th>\n",
       "      <th>avg-price</th>\n",
       "      <th>chef-name</th>\n",
       "      <th>currency</th>\n",
       "      <th>description</th>\n",
       "      <th>drinks</th>\n",
       "      <th>gps</th>\n",
       "      <th>menu</th>\n",
       "      <th>name</th>\n",
       "      <th>ratings</th>\n",
       "      <th>reviews</th>\n",
       "      <th>schedule</th>\n",
       "      <th>summary-ratings</th>\n",
       "    </tr>\n",
       "  </thead>\n",
       "  <tbody>\n",
       "    <tr>\n",
       "      <th>280021</th>\n",
       "      <td>None</td>\n",
       "      <td>None</td>\n",
       "      <td>None</td>\n",
       "      <td>CHF</td>\n",
       "      <td>[POUR SE DÉTENDRE - Le restaurant L’O de Rive,...</td>\n",
       "      <td>{'Café': 34.0, 'Coupe de champagne': 10.0, 'Bo...</td>\n",
       "      <td>{'lat': 46.199397, 'lng': 6.1549928}</td>\n",
       "      <td>{'Desserts': {'Crème canelle brioche perdue et...</td>\n",
       "      <td>None</td>\n",
       "      <td>None</td>\n",
       "      <td>None</td>\n",
       "      <td>[Midi : de 12h à 14h30 (sauf samedi et dimanch...</td>\n",
       "      <td>None</td>\n",
       "    </tr>\n",
       "  </tbody>\n",
       "</table>\n",
       "</div>"
      ],
      "text/plain": [
       "       address avg-price chef-name currency  \\\n",
       "280021    None      None      None      CHF   \n",
       "\n",
       "                                              description  \\\n",
       "280021  [POUR SE DÉTENDRE - Le restaurant L’O de Rive,...   \n",
       "\n",
       "                                                   drinks  \\\n",
       "280021  {'Café': 34.0, 'Coupe de champagne': 10.0, 'Bo...   \n",
       "\n",
       "                                         gps  \\\n",
       "280021  {'lat': 46.199397, 'lng': 6.1549928}   \n",
       "\n",
       "                                                     menu  name ratings  \\\n",
       "280021  {'Desserts': {'Crème canelle brioche perdue et...  None    None   \n",
       "\n",
       "       reviews                                           schedule  \\\n",
       "280021    None  [Midi : de 12h à 14h30 (sauf samedi et dimanch...   \n",
       "\n",
       "       summary-ratings  \n",
       "280021            None  "
      ]
     },
     "execution_count": 11,
     "metadata": {},
     "output_type": "execute_result"
    }
   ],
   "source": [
    "no_addr = df[df[\"address\"].isnull()]\n",
    "no_addr"
   ]
  },
  {
   "cell_type": "markdown",
   "metadata": {},
   "source": [
    "Remove missing address entries"
   ]
  },
  {
   "cell_type": "code",
   "execution_count": 12,
   "metadata": {
    "collapsed": false
   },
   "outputs": [
    {
     "data": {
      "text/plain": [
       "(3003, 13)"
      ]
     },
     "execution_count": 12,
     "metadata": {},
     "output_type": "execute_result"
    }
   ],
   "source": [
    "df.drop(no_addr.index, inplace=True, errors='ignore')\n",
    "df.shape"
   ]
  },
  {
   "cell_type": "code",
   "execution_count": 13,
   "metadata": {
    "collapsed": false
   },
   "outputs": [
    {
     "data": {
      "text/html": [
       "<div>\n",
       "<table border=\"1\" class=\"dataframe\">\n",
       "  <thead>\n",
       "    <tr style=\"text-align: right;\">\n",
       "      <th></th>\n",
       "      <th>ZIP</th>\n",
       "      <th>city</th>\n",
       "      <th>country</th>\n",
       "      <th>street</th>\n",
       "    </tr>\n",
       "  </thead>\n",
       "  <tbody>\n",
       "    <tr>\n",
       "      <th>34977</th>\n",
       "      <td>1020</td>\n",
       "      <td>Renens</td>\n",
       "      <td>Suisse</td>\n",
       "      <td>Place du marché 1</td>\n",
       "    </tr>\n",
       "    <tr>\n",
       "      <th>63275</th>\n",
       "      <td>CH-1218</td>\n",
       "      <td>Le Grand-Saconnex</td>\n",
       "      <td>Suisse</td>\n",
       "      <td>Route de Ferney 207, Grand-Saconnex, Switzerland</td>\n",
       "    </tr>\n",
       "    <tr>\n",
       "      <th>215205</th>\n",
       "      <td>CH-1204</td>\n",
       "      <td>Genève</td>\n",
       "      <td>Suisse</td>\n",
       "      <td>Grand-Rue 22</td>\n",
       "    </tr>\n",
       "    <tr>\n",
       "      <th>20055</th>\n",
       "      <td>1196</td>\n",
       "      <td>Gland</td>\n",
       "      <td>Suisse</td>\n",
       "      <td>Rue de la Paix 1</td>\n",
       "    </tr>\n",
       "    <tr>\n",
       "      <th>18532</th>\n",
       "      <td>1204</td>\n",
       "      <td>Genève</td>\n",
       "      <td>Suisse</td>\n",
       "      <td>Quai Gustave-Ador 82</td>\n",
       "    </tr>\n",
       "  </tbody>\n",
       "</table>\n",
       "</div>"
      ],
      "text/plain": [
       "            ZIP               city country  \\\n",
       "34977      1020             Renens  Suisse   \n",
       "63275   CH-1218  Le Grand-Saconnex  Suisse   \n",
       "215205  CH-1204             Genève  Suisse   \n",
       "20055      1196              Gland  Suisse   \n",
       "18532      1204             Genève  Suisse   \n",
       "\n",
       "                                                  street  \n",
       "34977                                  Place du marché 1  \n",
       "63275   Route de Ferney 207, Grand-Saconnex, Switzerland  \n",
       "215205                                      Grand-Rue 22  \n",
       "20055                                   Rue de la Paix 1  \n",
       "18532                               Quai Gustave-Ador 82  "
      ]
     },
     "execution_count": 13,
     "metadata": {},
     "output_type": "execute_result"
    }
   ],
   "source": [
    "addrs = pd.DataFrame.from_records(df[\"address\"], index=df.index)\n",
    "addrs.head()"
   ]
  },
  {
   "cell_type": "code",
   "execution_count": 14,
   "metadata": {
    "collapsed": false
   },
   "outputs": [
    {
     "data": {
      "text/plain": [
       "array(['1020', 'CH-1218', 'CH-1204', '1196', '1204', '1003', '1195',\n",
       "       '1207', '1004', '2000', '1950', 'CH-1201', 'CH-1018', 'CH-1884',\n",
       "       'CH-1206', 'CH-1006', '1007', 'CH-1205', 'CH-1010', 'CH-1202',\n",
       "       '1005', '1263', 'CH-1003', '1212', 'CH-1072', '1963', '74240',\n",
       "       '1227', '1292', '1202', '1201', 'CH-1207', '1009', '1182', '1806',\n",
       "       '1052', '1279', '1232', '1268', 'CH-1864', '1273', 'CH-1162',\n",
       "       '1257', '1214', '1278', '1253', '1252', 'CH-1958', '1096', '1965',\n",
       "       '1183', '1217', 'CH-1007', 'CH-1950', 'CH-2000', 'CH-1005', '1205',\n",
       "       '1225', 'CH-1907', 'CH-1227', 'CH-1920', 'CH-1936', '1018', '1260',\n",
       "       '1800', '1213', '1040', 'CH-1934', '1298', '', '1820', '1258',\n",
       "       'CH-1852', 'CH-1242', '1242', 'CH-1203', '1288', '1023', 'CH-1213',\n",
       "       '1203', 'CH-1820', 'CH-1023', 'CH-1255', '1006', 'CH-1228', '1290',\n",
       "       'CH-1245', 'CH-1222', 'CH-3963', 'CH-1068', 'CH-1292', 'CH-1070',\n",
       "       '1936', 'CH-1004', '1206', '1222', 'CH-1009', 'CH-1180', 'CH-1290',\n",
       "       '1000'], dtype=object)"
      ]
     },
     "execution_count": 14,
     "metadata": {},
     "output_type": "execute_result"
    }
   ],
   "source": [
    "addrs.ZIP.unique()[:100]"
   ]
  },
  {
   "cell_type": "markdown",
   "metadata": {},
   "source": [
    "Remove swiss prefix and cedex (special business mail) suffix"
   ]
  },
  {
   "cell_type": "code",
   "execution_count": 15,
   "metadata": {
    "collapsed": false
   },
   "outputs": [],
   "source": [
    "addrs.ZIP = addrs.ZIP.apply(lambda z: z[3:] if z.startswith('CH-') else z)\n",
    "addrs.ZIP = addrs.ZIP.apply(lambda z: z[:-6] if z.endswith(' CEDEX') else z)"
   ]
  },
  {
   "cell_type": "code",
   "execution_count": 16,
   "metadata": {
    "collapsed": false
   },
   "outputs": [
    {
     "data": {
      "text/plain": [
       "array(['', '01220', '01630', '02100', '02200', '02420', '04160', '04200',\n",
       "       '04290', '06140', '06160', '06220', '06230', '06250', '06270',\n",
       "       '06370', '06400', '06410', '06420', '06450', '06460', '06480',\n",
       "       '06530', '06560', '06570', '06600', '06620', '06650', '06710',\n",
       "       '06750', '06800', '07220', '07700', '08000', '08090', '08200',\n",
       "       '08350', '09310', '1000', '1003', '1004', '1005', '1006', '1007',\n",
       "       '1009', '1010', '1012', '1018', '1020', '1022', '1023', '1024',\n",
       "       '1029', '1030', '1040', '1052', '1068', '1070', '1071', '1072',\n",
       "       '1080', '1091', '1094', '1095', '1096', '1110', '11100', '1123',\n",
       "       '1148', '1162', '1165', '1175', '1180', '1182', '1183', '1195',\n",
       "       '1196', '1197', '1201', '1202', '1203', '1204', '1205', '1206',\n",
       "       '1207', '1208', '1209', '1212', '1213', '1214', '1215', '1216',\n",
       "       '1217', '1218', '1219', '1222', '1223', '1224', '1225', '1226'], dtype=object)"
      ]
     },
     "execution_count": 16,
     "metadata": {},
     "output_type": "execute_result"
    }
   ],
   "source": [
    "np.unique(addrs.ZIP)[:100]"
   ]
  },
  {
   "cell_type": "code",
   "execution_count": 17,
   "metadata": {
    "collapsed": false
   },
   "outputs": [],
   "source": [
    "addrs.ZIP = addrs.ZIP.astype(np.int, raise_on_error=False)"
   ]
  },
  {
   "cell_type": "code",
   "execution_count": 18,
   "metadata": {
    "collapsed": false
   },
   "outputs": [
    {
     "data": {
      "text/plain": [
       "array(['Suisse', 'France', 'Belgique', 'Bry-sur-Marne', 'Nantes',\n",
       "       'Gruissan', 'Nans-les-Pins', 'Espagne', 'Saint-Maur-des-Fossés',\n",
       "       'Lille', 'Fontainebleau', 'Viroflay', 'Roquebrune-sur-Argens',\n",
       "       'Puteaux', 'Paris', 'Saint-Nazaire', 'Morlaix', 'Alligny-en-Morvan',\n",
       "       'Saintes-Maries-de-la-Mer', 'Boulogne-Billancourt',\n",
       "       'Voisins-le-Bretonneux', 'Suresnes'], dtype=object)"
      ]
     },
     "execution_count": 18,
     "metadata": {},
     "output_type": "execute_result"
    }
   ],
   "source": [
    "addrs.country.unique() # TODO FIX THIS USING ZIP !"
   ]
  },
  {
   "cell_type": "code",
   "execution_count": 19,
   "metadata": {
    "collapsed": false,
    "scrolled": true
   },
   "outputs": [
    {
     "data": {
      "text/html": [
       "<div>\n",
       "<table border=\"1\" class=\"dataframe\">\n",
       "  <thead>\n",
       "    <tr style=\"text-align: right;\">\n",
       "      <th></th>\n",
       "      <th>avg-price</th>\n",
       "      <th>chef-name</th>\n",
       "      <th>currency</th>\n",
       "      <th>description</th>\n",
       "      <th>drinks</th>\n",
       "      <th>gps</th>\n",
       "      <th>menu</th>\n",
       "      <th>name</th>\n",
       "      <th>ratings</th>\n",
       "      <th>reviews</th>\n",
       "      <th>schedule</th>\n",
       "      <th>summary-ratings</th>\n",
       "      <th>ZIP</th>\n",
       "      <th>city</th>\n",
       "      <th>country</th>\n",
       "      <th>street</th>\n",
       "    </tr>\n",
       "  </thead>\n",
       "  <tbody>\n",
       "    <tr>\n",
       "      <th>34977</th>\n",
       "      <td>34</td>\n",
       "      <td>None</td>\n",
       "      <td>CHF</td>\n",
       "      <td>[AMBIANCE VINTAGE – Au cœur de Renens, le 1 Ca...</td>\n",
       "      <td>{'Café': 3.0, 'Coupe de champagne': 15.0, 'Ver...</td>\n",
       "      <td>{'lat': 46.536869692575, 'lng': 6.584780216217}</td>\n",
       "      <td>{'Dessert': {'Fondant au Toblerone tiède servi...</td>\n",
       "      <td>1, Café du Marché</td>\n",
       "      <td>{'rating-list': {}, 'stats': {'Qualité/prix': ...</td>\n",
       "      <td>[{'ratings': {'Cadre': 10, 'Service': 8, 'Cuis...</td>\n",
       "      <td>[Midi : de 11h à 13h30 (du lundi au samedi), S...</td>\n",
       "      <td>{'review-count': 97, 'data-score-': 8.4, 'aver...</td>\n",
       "      <td>1020</td>\n",
       "      <td>Renens</td>\n",
       "      <td>Suisse</td>\n",
       "      <td>Place du marché 1</td>\n",
       "    </tr>\n",
       "    <tr>\n",
       "      <th>63275</th>\n",
       "      <td>52</td>\n",
       "      <td>None</td>\n",
       "      <td>CHF</td>\n",
       "      <td>[UNE BELLE TABLE PROCHE DE L'AÉROPORT - Le 207...</td>\n",
       "      <td>{'Bouteille de vin': 32.0, 'Café': 34.0, 'Demi...</td>\n",
       "      <td>{'lat': 46.2393855, 'lng': 6.1227483}</td>\n",
       "      <td>{'Dessert': {'Crème brûlée à la poire': 9.0, '...</td>\n",
       "      <td>207 Café</td>\n",
       "      <td>None</td>\n",
       "      <td>None</td>\n",
       "      <td>[Déjeuner : de 12h à 14h00 (du lundi au vendre...</td>\n",
       "      <td>None</td>\n",
       "      <td>1218</td>\n",
       "      <td>Le Grand-Saconnex</td>\n",
       "      <td>Suisse</td>\n",
       "      <td>Route de Ferney 207, Grand-Saconnex, Switzerland</td>\n",
       "    </tr>\n",
       "    <tr>\n",
       "      <th>215205</th>\n",
       "      <td>25</td>\n",
       "      <td>None</td>\n",
       "      <td>CHF</td>\n",
       "      <td>[LA PRÉSENTATION – Lorsque vous irez manger da...</td>\n",
       "      <td>{'Café': 35.0, 'Bouteille de champagne': 100.0...</td>\n",
       "      <td>{'lat': 46.2018732, 'lng': 6.1458846}</td>\n",
       "      <td>{'Desserts': {'Cheesecake au Nutella': 9.0, 'C...</td>\n",
       "      <td>22 Grand'Rue</td>\n",
       "      <td>None</td>\n",
       "      <td>None</td>\n",
       "      <td>[Midi : de 12h à 14h30 (sauf samedi et dimanche)]</td>\n",
       "      <td>None</td>\n",
       "      <td>1204</td>\n",
       "      <td>Genève</td>\n",
       "      <td>Suisse</td>\n",
       "      <td>Grand-Rue 22</td>\n",
       "    </tr>\n",
       "    <tr>\n",
       "      <th>20055</th>\n",
       "      <td>23</td>\n",
       "      <td>None</td>\n",
       "      <td>CHF</td>\n",
       "      <td>[BAR À TAPAS -  Vous cherchez un lieu tendance...</td>\n",
       "      <td>{'Bouteille de vin': 32.0, 'Café': 35.0, 'Demi...</td>\n",
       "      <td>{'lat': 46.420353737372, 'lng': 6.2632699012756}</td>\n",
       "      <td>{'Dessert': {'Délices de framboises': 11.5, 'M...</td>\n",
       "      <td>2ème Acte</td>\n",
       "      <td>{'rating-list': {}, 'stats': {'Qualité/prix': ...</td>\n",
       "      <td>[{'ratings': {'Cadre': 6, 'Service': 10, 'Cuis...</td>\n",
       "      <td>[Déjeuner : de 11h30 à 14h (du lundi au vendre...</td>\n",
       "      <td>{'review-count': 161, 'data-score-': 8.3, 'ave...</td>\n",
       "      <td>1196</td>\n",
       "      <td>Gland</td>\n",
       "      <td>Suisse</td>\n",
       "      <td>Rue de la Paix 1</td>\n",
       "    </tr>\n",
       "    <tr>\n",
       "      <th>18532</th>\n",
       "      <td>73</td>\n",
       "      <td>None</td>\n",
       "      <td>CHF</td>\n",
       "      <td>[CADRE HISTORIQUE – À quelques pas du centre-v...</td>\n",
       "      <td>None</td>\n",
       "      <td>{'lat': 46.207617632506, 'lng': 6.1695799827576}</td>\n",
       "      <td>{'Dessert': {'Assortiment de fromages bio': 19...</td>\n",
       "      <td>À l'Étage du Parc des Eaux Vives</td>\n",
       "      <td>{'rating-list': {}, 'stats': None, 'avg-rating...</td>\n",
       "      <td>[{'ratings': {'Cadre': 10, 'Service': 8, 'Cuis...</td>\n",
       "      <td>[Dîner : de 19h à 22h30 (sauf dimanche et lundi)]</td>\n",
       "      <td>None</td>\n",
       "      <td>1204</td>\n",
       "      <td>Genève</td>\n",
       "      <td>Suisse</td>\n",
       "      <td>Quai Gustave-Ador 82</td>\n",
       "    </tr>\n",
       "  </tbody>\n",
       "</table>\n",
       "</div>"
      ],
      "text/plain": [
       "       avg-price chef-name currency  \\\n",
       "34977         34      None      CHF   \n",
       "63275         52      None      CHF   \n",
       "215205        25      None      CHF   \n",
       "20055         23      None      CHF   \n",
       "18532         73      None      CHF   \n",
       "\n",
       "                                              description  \\\n",
       "34977   [AMBIANCE VINTAGE – Au cœur de Renens, le 1 Ca...   \n",
       "63275   [UNE BELLE TABLE PROCHE DE L'AÉROPORT - Le 207...   \n",
       "215205  [LA PRÉSENTATION – Lorsque vous irez manger da...   \n",
       "20055   [BAR À TAPAS -  Vous cherchez un lieu tendance...   \n",
       "18532   [CADRE HISTORIQUE – À quelques pas du centre-v...   \n",
       "\n",
       "                                                   drinks  \\\n",
       "34977   {'Café': 3.0, 'Coupe de champagne': 15.0, 'Ver...   \n",
       "63275   {'Bouteille de vin': 32.0, 'Café': 34.0, 'Demi...   \n",
       "215205  {'Café': 35.0, 'Bouteille de champagne': 100.0...   \n",
       "20055   {'Bouteille de vin': 32.0, 'Café': 35.0, 'Demi...   \n",
       "18532                                                None   \n",
       "\n",
       "                                                     gps  \\\n",
       "34977    {'lat': 46.536869692575, 'lng': 6.584780216217}   \n",
       "63275              {'lat': 46.2393855, 'lng': 6.1227483}   \n",
       "215205             {'lat': 46.2018732, 'lng': 6.1458846}   \n",
       "20055   {'lat': 46.420353737372, 'lng': 6.2632699012756}   \n",
       "18532   {'lat': 46.207617632506, 'lng': 6.1695799827576}   \n",
       "\n",
       "                                                     menu  \\\n",
       "34977   {'Dessert': {'Fondant au Toblerone tiède servi...   \n",
       "63275   {'Dessert': {'Crème brûlée à la poire': 9.0, '...   \n",
       "215205  {'Desserts': {'Cheesecake au Nutella': 9.0, 'C...   \n",
       "20055   {'Dessert': {'Délices de framboises': 11.5, 'M...   \n",
       "18532   {'Dessert': {'Assortiment de fromages bio': 19...   \n",
       "\n",
       "                                    name  \\\n",
       "34977                  1, Café du Marché   \n",
       "63275                           207 Café   \n",
       "215205                      22 Grand'Rue   \n",
       "20055                          2ème Acte   \n",
       "18532   À l'Étage du Parc des Eaux Vives   \n",
       "\n",
       "                                                  ratings  \\\n",
       "34977   {'rating-list': {}, 'stats': {'Qualité/prix': ...   \n",
       "63275                                                None   \n",
       "215205                                               None   \n",
       "20055   {'rating-list': {}, 'stats': {'Qualité/prix': ...   \n",
       "18532   {'rating-list': {}, 'stats': None, 'avg-rating...   \n",
       "\n",
       "                                                  reviews  \\\n",
       "34977   [{'ratings': {'Cadre': 10, 'Service': 8, 'Cuis...   \n",
       "63275                                                None   \n",
       "215205                                               None   \n",
       "20055   [{'ratings': {'Cadre': 6, 'Service': 10, 'Cuis...   \n",
       "18532   [{'ratings': {'Cadre': 10, 'Service': 8, 'Cuis...   \n",
       "\n",
       "                                                 schedule  \\\n",
       "34977   [Midi : de 11h à 13h30 (du lundi au samedi), S...   \n",
       "63275   [Déjeuner : de 12h à 14h00 (du lundi au vendre...   \n",
       "215205  [Midi : de 12h à 14h30 (sauf samedi et dimanche)]   \n",
       "20055   [Déjeuner : de 11h30 à 14h (du lundi au vendre...   \n",
       "18532   [Dîner : de 19h à 22h30 (sauf dimanche et lundi)]   \n",
       "\n",
       "                                          summary-ratings   ZIP  \\\n",
       "34977   {'review-count': 97, 'data-score-': 8.4, 'aver...  1020   \n",
       "63275                                                None  1218   \n",
       "215205                                               None  1204   \n",
       "20055   {'review-count': 161, 'data-score-': 8.3, 'ave...  1196   \n",
       "18532                                                None  1204   \n",
       "\n",
       "                     city country  \\\n",
       "34977              Renens  Suisse   \n",
       "63275   Le Grand-Saconnex  Suisse   \n",
       "215205             Genève  Suisse   \n",
       "20055               Gland  Suisse   \n",
       "18532              Genève  Suisse   \n",
       "\n",
       "                                                  street  \n",
       "34977                                  Place du marché 1  \n",
       "63275   Route de Ferney 207, Grand-Saconnex, Switzerland  \n",
       "215205                                      Grand-Rue 22  \n",
       "20055                                   Rue de la Paix 1  \n",
       "18532                               Quai Gustave-Ador 82  "
      ]
     },
     "execution_count": 19,
     "metadata": {},
     "output_type": "execute_result"
    }
   ],
   "source": [
    "df = pd.concat([df.drop('address', axis=1), addrs], axis=1)\n",
    "df.head()"
   ]
  },
  {
   "cell_type": "code",
   "execution_count": 20,
   "metadata": {
    "collapsed": false
   },
   "outputs": [
    {
     "data": {
      "text/plain": [
       "(3003, 16)"
      ]
     },
     "execution_count": 20,
     "metadata": {},
     "output_type": "execute_result"
    }
   ],
   "source": [
    "df.shape"
   ]
  },
  {
   "cell_type": "markdown",
   "metadata": {
    "collapsed": true
   },
   "source": [
    "### GPS clean-up"
   ]
  },
  {
   "cell_type": "markdown",
   "metadata": {},
   "source": [
    "structure : {'lng': 6.1227483, 'lat': 46.2393855}"
   ]
  },
  {
   "cell_type": "code",
   "execution_count": 21,
   "metadata": {
    "collapsed": false
   },
   "outputs": [
    {
     "data": {
      "text/plain": [
       "(0, 16)"
      ]
     },
     "execution_count": 21,
     "metadata": {},
     "output_type": "execute_result"
    }
   ],
   "source": [
    "no_gps = df[df[\"gps\"].isnull()]\n",
    "no_gps.shape"
   ]
  },
  {
   "cell_type": "code",
   "execution_count": 22,
   "metadata": {
    "collapsed": false
   },
   "outputs": [
    {
     "data": {
      "text/html": [
       "<div>\n",
       "<table border=\"1\" class=\"dataframe\">\n",
       "  <thead>\n",
       "    <tr style=\"text-align: right;\">\n",
       "      <th></th>\n",
       "      <th>lat</th>\n",
       "      <th>lng</th>\n",
       "    </tr>\n",
       "  </thead>\n",
       "  <tbody>\n",
       "    <tr>\n",
       "      <th>34977</th>\n",
       "      <td>46.536870</td>\n",
       "      <td>6.584780</td>\n",
       "    </tr>\n",
       "    <tr>\n",
       "      <th>63275</th>\n",
       "      <td>46.239385</td>\n",
       "      <td>6.122748</td>\n",
       "    </tr>\n",
       "    <tr>\n",
       "      <th>215205</th>\n",
       "      <td>46.201873</td>\n",
       "      <td>6.145885</td>\n",
       "    </tr>\n",
       "    <tr>\n",
       "      <th>20055</th>\n",
       "      <td>46.420354</td>\n",
       "      <td>6.263270</td>\n",
       "    </tr>\n",
       "    <tr>\n",
       "      <th>18532</th>\n",
       "      <td>46.207618</td>\n",
       "      <td>6.169580</td>\n",
       "    </tr>\n",
       "  </tbody>\n",
       "</table>\n",
       "</div>"
      ],
      "text/plain": [
       "              lat       lng\n",
       "34977   46.536870  6.584780\n",
       "63275   46.239385  6.122748\n",
       "215205  46.201873  6.145885\n",
       "20055   46.420354  6.263270\n",
       "18532   46.207618  6.169580"
      ]
     },
     "execution_count": 22,
     "metadata": {},
     "output_type": "execute_result"
    }
   ],
   "source": [
    "gps = pd.DataFrame.from_records(df['gps'], index=df.index)\n",
    "gps.head()"
   ]
  },
  {
   "cell_type": "code",
   "execution_count": 23,
   "metadata": {
    "collapsed": true
   },
   "outputs": [],
   "source": [
    "gps.lat = gps.lat.astype(np.float)\n",
    "gps.lng = gps.lng.astype(np.float)"
   ]
  },
  {
   "cell_type": "code",
   "execution_count": 24,
   "metadata": {
    "collapsed": false
   },
   "outputs": [
    {
     "data": {
      "text/html": [
       "<div>\n",
       "<table border=\"1\" class=\"dataframe\">\n",
       "  <thead>\n",
       "    <tr style=\"text-align: right;\">\n",
       "      <th></th>\n",
       "      <th>avg-price</th>\n",
       "      <th>chef-name</th>\n",
       "      <th>currency</th>\n",
       "      <th>description</th>\n",
       "      <th>drinks</th>\n",
       "      <th>menu</th>\n",
       "      <th>name</th>\n",
       "      <th>ratings</th>\n",
       "      <th>reviews</th>\n",
       "      <th>schedule</th>\n",
       "      <th>summary-ratings</th>\n",
       "      <th>ZIP</th>\n",
       "      <th>city</th>\n",
       "      <th>country</th>\n",
       "      <th>street</th>\n",
       "      <th>lat</th>\n",
       "      <th>lng</th>\n",
       "    </tr>\n",
       "  </thead>\n",
       "  <tbody>\n",
       "    <tr>\n",
       "      <th>34977</th>\n",
       "      <td>34</td>\n",
       "      <td>None</td>\n",
       "      <td>CHF</td>\n",
       "      <td>[AMBIANCE VINTAGE – Au cœur de Renens, le 1 Ca...</td>\n",
       "      <td>{'Café': 3.0, 'Coupe de champagne': 15.0, 'Ver...</td>\n",
       "      <td>{'Dessert': {'Fondant au Toblerone tiède servi...</td>\n",
       "      <td>1, Café du Marché</td>\n",
       "      <td>{'rating-list': {}, 'stats': {'Qualité/prix': ...</td>\n",
       "      <td>[{'ratings': {'Cadre': 10, 'Service': 8, 'Cuis...</td>\n",
       "      <td>[Midi : de 11h à 13h30 (du lundi au samedi), S...</td>\n",
       "      <td>{'review-count': 97, 'data-score-': 8.4, 'aver...</td>\n",
       "      <td>1020</td>\n",
       "      <td>Renens</td>\n",
       "      <td>Suisse</td>\n",
       "      <td>Place du marché 1</td>\n",
       "      <td>46.536870</td>\n",
       "      <td>6.584780</td>\n",
       "    </tr>\n",
       "    <tr>\n",
       "      <th>63275</th>\n",
       "      <td>52</td>\n",
       "      <td>None</td>\n",
       "      <td>CHF</td>\n",
       "      <td>[UNE BELLE TABLE PROCHE DE L'AÉROPORT - Le 207...</td>\n",
       "      <td>{'Bouteille de vin': 32.0, 'Café': 34.0, 'Demi...</td>\n",
       "      <td>{'Dessert': {'Crème brûlée à la poire': 9.0, '...</td>\n",
       "      <td>207 Café</td>\n",
       "      <td>None</td>\n",
       "      <td>None</td>\n",
       "      <td>[Déjeuner : de 12h à 14h00 (du lundi au vendre...</td>\n",
       "      <td>None</td>\n",
       "      <td>1218</td>\n",
       "      <td>Le Grand-Saconnex</td>\n",
       "      <td>Suisse</td>\n",
       "      <td>Route de Ferney 207, Grand-Saconnex, Switzerland</td>\n",
       "      <td>46.239385</td>\n",
       "      <td>6.122748</td>\n",
       "    </tr>\n",
       "    <tr>\n",
       "      <th>215205</th>\n",
       "      <td>25</td>\n",
       "      <td>None</td>\n",
       "      <td>CHF</td>\n",
       "      <td>[LA PRÉSENTATION – Lorsque vous irez manger da...</td>\n",
       "      <td>{'Café': 35.0, 'Bouteille de champagne': 100.0...</td>\n",
       "      <td>{'Desserts': {'Cheesecake au Nutella': 9.0, 'C...</td>\n",
       "      <td>22 Grand'Rue</td>\n",
       "      <td>None</td>\n",
       "      <td>None</td>\n",
       "      <td>[Midi : de 12h à 14h30 (sauf samedi et dimanche)]</td>\n",
       "      <td>None</td>\n",
       "      <td>1204</td>\n",
       "      <td>Genève</td>\n",
       "      <td>Suisse</td>\n",
       "      <td>Grand-Rue 22</td>\n",
       "      <td>46.201873</td>\n",
       "      <td>6.145885</td>\n",
       "    </tr>\n",
       "    <tr>\n",
       "      <th>20055</th>\n",
       "      <td>23</td>\n",
       "      <td>None</td>\n",
       "      <td>CHF</td>\n",
       "      <td>[BAR À TAPAS -  Vous cherchez un lieu tendance...</td>\n",
       "      <td>{'Bouteille de vin': 32.0, 'Café': 35.0, 'Demi...</td>\n",
       "      <td>{'Dessert': {'Délices de framboises': 11.5, 'M...</td>\n",
       "      <td>2ème Acte</td>\n",
       "      <td>{'rating-list': {}, 'stats': {'Qualité/prix': ...</td>\n",
       "      <td>[{'ratings': {'Cadre': 6, 'Service': 10, 'Cuis...</td>\n",
       "      <td>[Déjeuner : de 11h30 à 14h (du lundi au vendre...</td>\n",
       "      <td>{'review-count': 161, 'data-score-': 8.3, 'ave...</td>\n",
       "      <td>1196</td>\n",
       "      <td>Gland</td>\n",
       "      <td>Suisse</td>\n",
       "      <td>Rue de la Paix 1</td>\n",
       "      <td>46.420354</td>\n",
       "      <td>6.263270</td>\n",
       "    </tr>\n",
       "    <tr>\n",
       "      <th>18532</th>\n",
       "      <td>73</td>\n",
       "      <td>None</td>\n",
       "      <td>CHF</td>\n",
       "      <td>[CADRE HISTORIQUE – À quelques pas du centre-v...</td>\n",
       "      <td>None</td>\n",
       "      <td>{'Dessert': {'Assortiment de fromages bio': 19...</td>\n",
       "      <td>À l'Étage du Parc des Eaux Vives</td>\n",
       "      <td>{'rating-list': {}, 'stats': None, 'avg-rating...</td>\n",
       "      <td>[{'ratings': {'Cadre': 10, 'Service': 8, 'Cuis...</td>\n",
       "      <td>[Dîner : de 19h à 22h30 (sauf dimanche et lundi)]</td>\n",
       "      <td>None</td>\n",
       "      <td>1204</td>\n",
       "      <td>Genève</td>\n",
       "      <td>Suisse</td>\n",
       "      <td>Quai Gustave-Ador 82</td>\n",
       "      <td>46.207618</td>\n",
       "      <td>6.169580</td>\n",
       "    </tr>\n",
       "  </tbody>\n",
       "</table>\n",
       "</div>"
      ],
      "text/plain": [
       "       avg-price chef-name currency  \\\n",
       "34977         34      None      CHF   \n",
       "63275         52      None      CHF   \n",
       "215205        25      None      CHF   \n",
       "20055         23      None      CHF   \n",
       "18532         73      None      CHF   \n",
       "\n",
       "                                              description  \\\n",
       "34977   [AMBIANCE VINTAGE – Au cœur de Renens, le 1 Ca...   \n",
       "63275   [UNE BELLE TABLE PROCHE DE L'AÉROPORT - Le 207...   \n",
       "215205  [LA PRÉSENTATION – Lorsque vous irez manger da...   \n",
       "20055   [BAR À TAPAS -  Vous cherchez un lieu tendance...   \n",
       "18532   [CADRE HISTORIQUE – À quelques pas du centre-v...   \n",
       "\n",
       "                                                   drinks  \\\n",
       "34977   {'Café': 3.0, 'Coupe de champagne': 15.0, 'Ver...   \n",
       "63275   {'Bouteille de vin': 32.0, 'Café': 34.0, 'Demi...   \n",
       "215205  {'Café': 35.0, 'Bouteille de champagne': 100.0...   \n",
       "20055   {'Bouteille de vin': 32.0, 'Café': 35.0, 'Demi...   \n",
       "18532                                                None   \n",
       "\n",
       "                                                     menu  \\\n",
       "34977   {'Dessert': {'Fondant au Toblerone tiède servi...   \n",
       "63275   {'Dessert': {'Crème brûlée à la poire': 9.0, '...   \n",
       "215205  {'Desserts': {'Cheesecake au Nutella': 9.0, 'C...   \n",
       "20055   {'Dessert': {'Délices de framboises': 11.5, 'M...   \n",
       "18532   {'Dessert': {'Assortiment de fromages bio': 19...   \n",
       "\n",
       "                                    name  \\\n",
       "34977                  1, Café du Marché   \n",
       "63275                           207 Café   \n",
       "215205                      22 Grand'Rue   \n",
       "20055                          2ème Acte   \n",
       "18532   À l'Étage du Parc des Eaux Vives   \n",
       "\n",
       "                                                  ratings  \\\n",
       "34977   {'rating-list': {}, 'stats': {'Qualité/prix': ...   \n",
       "63275                                                None   \n",
       "215205                                               None   \n",
       "20055   {'rating-list': {}, 'stats': {'Qualité/prix': ...   \n",
       "18532   {'rating-list': {}, 'stats': None, 'avg-rating...   \n",
       "\n",
       "                                                  reviews  \\\n",
       "34977   [{'ratings': {'Cadre': 10, 'Service': 8, 'Cuis...   \n",
       "63275                                                None   \n",
       "215205                                               None   \n",
       "20055   [{'ratings': {'Cadre': 6, 'Service': 10, 'Cuis...   \n",
       "18532   [{'ratings': {'Cadre': 10, 'Service': 8, 'Cuis...   \n",
       "\n",
       "                                                 schedule  \\\n",
       "34977   [Midi : de 11h à 13h30 (du lundi au samedi), S...   \n",
       "63275   [Déjeuner : de 12h à 14h00 (du lundi au vendre...   \n",
       "215205  [Midi : de 12h à 14h30 (sauf samedi et dimanche)]   \n",
       "20055   [Déjeuner : de 11h30 à 14h (du lundi au vendre...   \n",
       "18532   [Dîner : de 19h à 22h30 (sauf dimanche et lundi)]   \n",
       "\n",
       "                                          summary-ratings   ZIP  \\\n",
       "34977   {'review-count': 97, 'data-score-': 8.4, 'aver...  1020   \n",
       "63275                                                None  1218   \n",
       "215205                                               None  1204   \n",
       "20055   {'review-count': 161, 'data-score-': 8.3, 'ave...  1196   \n",
       "18532                                                None  1204   \n",
       "\n",
       "                     city country  \\\n",
       "34977              Renens  Suisse   \n",
       "63275   Le Grand-Saconnex  Suisse   \n",
       "215205             Genève  Suisse   \n",
       "20055               Gland  Suisse   \n",
       "18532              Genève  Suisse   \n",
       "\n",
       "                                                  street        lat       lng  \n",
       "34977                                  Place du marché 1  46.536870  6.584780  \n",
       "63275   Route de Ferney 207, Grand-Saconnex, Switzerland  46.239385  6.122748  \n",
       "215205                                      Grand-Rue 22  46.201873  6.145885  \n",
       "20055                                   Rue de la Paix 1  46.420354  6.263270  \n",
       "18532                               Quai Gustave-Ador 82  46.207618  6.169580  "
      ]
     },
     "execution_count": 24,
     "metadata": {},
     "output_type": "execute_result"
    }
   ],
   "source": [
    "df = pd.concat([df.drop('gps', axis=1), gps], axis=1)\n",
    "df.head()"
   ]
  },
  {
   "cell_type": "markdown",
   "metadata": {},
   "source": [
    "### Ratings clean-up"
   ]
  },
  {
   "cell_type": "markdown",
   "metadata": {},
   "source": []
  },
  {
   "cell_type": "markdown",
   "metadata": {
    "collapsed": false
   },
   "source": [
    "## Map of the restaurants"
   ]
  },
  {
   "cell_type": "code",
   "execution_count": 25,
   "metadata": {
    "collapsed": true
   },
   "outputs": [],
   "source": [
    "import folium\n",
    "from folium import plugins"
   ]
  },
  {
   "cell_type": "markdown",
   "metadata": {},
   "source": [
    "`folium.RegularPolygonMarker(\n",
    "    location=[45.5318, -122.6745], fill_color='#769d96', number_of_sides=12, radius=10, \n",
    ").add_to(map_)`"
   ]
  },
  {
   "cell_type": "code",
   "execution_count": 34,
   "metadata": {
    "collapsed": false
   },
   "outputs": [],
   "source": [
    "map_ = folium.Map(location=[46.599505, 3.480752], zoom_start=6)"
   ]
  },
  {
   "cell_type": "code",
   "execution_count": 35,
   "metadata": {
    "collapsed": false
   },
   "outputs": [],
   "source": [
    "points = df[[\"name\", \"lat\", \"lng\"]]"
   ]
  },
  {
   "cell_type": "code",
   "execution_count": 37,
   "metadata": {
    "collapsed": false
   },
   "outputs": [
    {
     "data": {
      "text/plain": [
       "<folium.plugins.heat_map.HeatMap at 0x121821e10>"
      ]
     },
     "execution_count": 37,
     "metadata": {},
     "output_type": "execute_result"
    }
   ],
   "source": [
    "plugins.HeatMap(zip(points.lat.values, points.lng.values, len(points) * [2]), radius = 15).add_to(map_)"
   ]
  },
  {
   "cell_type": "code",
   "execution_count": 38,
   "metadata": {
    "collapsed": false
   },
   "outputs": [],
   "source": [
    "#for name, lat, lng in points.values:\n",
    "#    folium.RegularPolygonMarker(\n",
    "#        location=[lat, lng], fill_color='red', popup=name, number_of_sides=12, radius=8, \n",
    "#    ).add_to(map_)"
   ]
  },
  {
   "cell_type": "code",
   "execution_count": 39,
   "metadata": {
    "collapsed": true
   },
   "outputs": [],
   "source": [
    "map_.save('restaurants.html')"
   ]
  }
 ],
 "metadata": {
  "kernelspec": {
   "display_name": "Python 3",
   "language": "python",
   "name": "python3"
  },
  "language_info": {
   "codemirror_mode": {
    "name": "ipython",
    "version": 3
   },
   "file_extension": ".py",
   "mimetype": "text/x-python",
   "name": "python",
   "nbconvert_exporter": "python",
   "pygments_lexer": "ipython3",
   "version": "3.6.0"
  }
 },
 "nbformat": 4,
 "nbformat_minor": 2
}
