{
 "cells": [
  {
   "cell_type": "code",
   "execution_count": null,
   "metadata": {
    "collapsed": true
   },
   "outputs": [],
   "source": [
    "import pandas as pd\n",
    "import numpy as np\n",
    "from elasticsearch import Elasticsearch\n",
    "from elasticsearch_dsl import Search, Q"
   ]
  },
  {
   "cell_type": "code",
   "execution_count": null,
   "metadata": {
    "collapsed": true
   },
   "outputs": [],
   "source": [
    "client = Elasticsearch(hosts='http://')"
   ]
  },
  {
   "cell_type": "code",
   "execution_count": null,
   "metadata": {
    "collapsed": false
   },
   "outputs": [],
   "source": [
    "resto = Search(using=client, index='restaurants') \\\n",
    "    .query('match_phrase', name='Les Tilleuls') \\\n",
    "    .execute()[1]\n",
    "resto.to_dict()"
   ]
  },
  {
   "cell_type": "code",
   "execution_count": null,
   "metadata": {
    "collapsed": false
   },
   "outputs": [],
   "source": [
    "for dessert in resto.desserts:\n",
    "    print(dessert)\n",
    "    req = Search(using=client, index='recipes2') \\\n",
    "            .query('match', name=dessert.name) \\\n",
    "        .execute()\n",
    "    for recipe in req:\n",
    "        print(recipe.meta.score)\n",
    "\n",
    "        print(recipe.name)\n",
    "        print([x.content for x in recipe.ingredients])\n",
    "        print()\n",
    "\n",
    "    print('====')\n",
    "    break"
   ]
  },
  {
   "cell_type": "code",
   "execution_count": null,
   "metadata": {
    "collapsed": false
   },
   "outputs": [],
   "source": [
    "req = Search(using=client, index='recipes') \\\n",
    "    .query('match', **{'ingredients.content': 'asperge'})\n",
    "    \n",
    "for hit in req.execute():\n",
    "    print(hit.name)\n",
    "    print(hit.ingredients)\n",
    "    print()"
   ]
  },
  {
   "cell_type": "code",
   "execution_count": null,
   "metadata": {
    "collapsed": false
   },
   "outputs": [],
   "source": [
    "req = Search(using=client, index='products2') \\\n",
    "    .query('match', name='sachets de thé vert')\n",
    "    \n",
    "for hit in req.execute():\n",
    "    print(hit.name)\n",
    "    print(hit.meta.score)\n",
    "    print([x.name for x in hit.nutriments])\n",
    "    print()"
   ]
  },
  {
   "cell_type": "code",
   "execution_count": null,
   "metadata": {
    "collapsed": true
   },
   "outputs": [],
   "source": []
  },
  {
   "cell_type": "code",
   "execution_count": null,
   "metadata": {
    "collapsed": true
   },
   "outputs": [],
   "source": []
  },
  {
   "cell_type": "code",
   "execution_count": null,
   "metadata": {
    "collapsed": true
   },
   "outputs": [],
   "source": []
  },
  {
   "cell_type": "code",
   "execution_count": null,
   "metadata": {
    "collapsed": true
   },
   "outputs": [],
   "source": []
  }
 ],
 "metadata": {
  "kernelspec": {
   "display_name": "Python 3",
   "language": "python",
   "name": "python3"
  },
  "language_info": {
   "codemirror_mode": {
    "name": "ipython",
    "version": 3
   },
   "file_extension": ".py",
   "mimetype": "text/x-python",
   "name": "python",
   "nbconvert_exporter": "python",
   "pygments_lexer": "ipython3",
   "version": "3.6.0"
  }
 },
 "nbformat": 4,
 "nbformat_minor": 2
}
