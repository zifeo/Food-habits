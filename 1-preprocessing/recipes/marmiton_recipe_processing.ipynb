{
 "cells": [
  {
   "cell_type": "code",
   "execution_count": null,
   "metadata": {
    "collapsed": true
   },
   "outputs": [],
   "source": [
    "import pandas as pd\n",
    "import numpy as np\n",
    "import json\n",
    "import nltk\n",
    "from elasticsearch import Elasticsearch\n",
    "from elasticsearch import helpers as eshelper"
   ]
  },
  {
   "cell_type": "code",
   "execution_count": null,
   "metadata": {
    "collapsed": false
   },
   "outputs": [],
   "source": [
    "df = pd.read_json(\"../data/marmiton.json\")"
   ]
  },
  {
   "cell_type": "code",
   "execution_count": null,
   "metadata": {
    "collapsed": false
   },
   "outputs": [],
   "source": [
    "df.head()"
   ]
  },
  {
   "cell_type": "code",
   "execution_count": null,
   "metadata": {
    "collapsed": false
   },
   "outputs": [],
   "source": [
    "recipies = df[[\"title\", \"ingredients\", \"quantity\"]]"
   ]
  },
  {
   "cell_type": "code",
   "execution_count": null,
   "metadata": {
    "collapsed": false
   },
   "outputs": [],
   "source": [
    "mesures = np.array(['dl', 'l', 'ml', 'cl', 'g', 'kg', 'cuillère', 'cuillères', 'cuillerées', 'pincée', 'poignée', 'pincées', 'verre'])\n",
    "litre_ml = np.array([\"ml\",\"cl\",\"dl\",\"l\"])\n",
    "poids_g = np.array([\"g\", \"kg\"])\n",
    "long = np.array(['cuillère', 'cuillères', 'cuillerées'])\n",
    "long_num = np.array([3, 3, 3])\n",
    "stop_word = np.array(['une', 'de', 'petits', 'petites', 'petite', 'petit', 'grand', 'gros', 'grosse', 'beaux', 'beau'])\n",
    "mult = np.array(['ou', 'à'])\n",
    "quant = np.array(['paquet', 'sachet'])\n",
    "mapping = {\n",
    "    'cuillères': (10, 'ml'),\n",
    "    'cuillerées': (10, 'ml'),\n",
    "    'cuillère': (10, 'ml'),\n",
    "    'cuillerée': (10, 'ml'),\n",
    "    'pincées': (3, 'g'),\n",
    "    'pincée': (3, 'g'),\n",
    "    'poignées': (50, 'g'),\n",
    "    'poignée': (50, 'g'),\n",
    "    'verres': (300, 'ml'),\n",
    "    'verre': (300, 'ml'),\n",
    "}"
   ]
  },
  {
   "cell_type": "code",
   "execution_count": null,
   "metadata": {
    "collapsed": true
   },
   "outputs": [],
   "source": [
    "def number(s):\n",
    "    s = s.replace(',', '.')\n",
    "    try:\n",
    "        return float(s)\n",
    "    except ValueError:\n",
    "        if '/' in s and s[0].isdigit():\n",
    "            a, b = s.split('/')\n",
    "            \n",
    "            if not number(a) or not number(b):\n",
    "                return False\n",
    "            \n",
    "            return float(a) / float(b)\n",
    "        else:\n",
    "            return False"
   ]
  },
  {
   "cell_type": "code",
   "execution_count": null,
   "metadata": {
    "collapsed": false
   },
   "outputs": [],
   "source": [
    "def parse(title, nbr_pers, ingredients):\n",
    "    res = {'name': title, 'ingredients': []}\n",
    "    for ingredient in ingredients:\n",
    "        arr = np.array(nltk.word_tokenize(ingredient))\n",
    "        arr = arr[np.in1d(arr, stop_word, invert=True)]\n",
    "        \n",
    "        if len(arr) > 0:\n",
    "\n",
    "            quant = None\n",
    "            mesure = None\n",
    "\n",
    "            num = number(arr[0])\n",
    "            \n",
    "            if len(arr) > 1 and num:\n",
    "                quant = num\n",
    "\n",
    "                if arr[1] in mult:\n",
    "                    arr = arr[2:]\n",
    "\n",
    "                ingredient = \"\"\n",
    "\n",
    "                num = 0\n",
    "\n",
    "                if arr[1].lower() in mesures:\n",
    "                    mesure = arr[1].lower()\n",
    "                    num = 1\n",
    "\n",
    "                    if mesure in long:\n",
    "                        num = long_num[long == mesure]\n",
    "                \n",
    "                if arr[1] in mapping.keys():\n",
    "                    quant *= mapping[arr[1]][0]\n",
    "                    mesure = mapping[arr[1]][1]\n",
    "                \n",
    "                if mesure in litre_ml:\n",
    "                    quant *= 10 ** np.where(litre_ml == mesure)[0][0]\n",
    "                    mesure = \"ml\"\n",
    "                    \n",
    "                if mesure in poids_g:\n",
    "                    quant *= 1000 ** np.where(poids_g == mesure)[0][0]\n",
    "                    mesure = \"g\"\n",
    "                    \n",
    "                try:\n",
    "                    nbr_pers = float(nbr_pers)\n",
    "                    if nbr_pers and not nbr_pers == 0:\n",
    "                        quant /= float(nbr_pers)\n",
    "                except ValueError:\n",
    "                    pass\n",
    "                    \n",
    "                arr = arr[1+num:]\n",
    "            elif arr[0][0].isdigit():\n",
    "                _1 = arr[0]\n",
    "                for mes in mesures:\n",
    "                    if mes in _1:\n",
    "                        num = number(_1.replace(mes, ''))\n",
    "                        if num:\n",
    "                            quant = num\n",
    "                        mesure = mes\n",
    "                        arr[1:]\n",
    "\n",
    "            if '(' in arr:\n",
    "                idx = np.where(arr == '(')[0]\n",
    "                if len(idx) > 1:\n",
    "                    idx = idx[0]\n",
    "                arr = arr[:idx]\n",
    "\n",
    "            if not quant is None:\n",
    "                res['ingredients'].append({\n",
    "                    'quantity': quant, \n",
    "                    'unit': mesure, \n",
    "                    'content': \" \".join(arr)\n",
    "                })\n",
    "        \n",
    "    return res"
   ]
  },
  {
   "cell_type": "code",
   "execution_count": null,
   "metadata": {
    "collapsed": false
   },
   "outputs": [],
   "source": [
    "res = [parse(title, nbr_pers, ingds) for title, ingds, nbr_pers in recipies.values]"
   ]
  },
  {
   "cell_type": "code",
   "execution_count": null,
   "metadata": {
    "collapsed": false
   },
   "outputs": [],
   "source": [
    "entries = []\n",
    "for recipe in res:\n",
    "    fmt = {\n",
    "        '_index': 'recipes',\n",
    "        '_type': 'marmiton',\n",
    "        '_source': recipe\n",
    "    }\n",
    "    entries.append(fmt)"
   ]
  },
  {
   "cell_type": "code",
   "execution_count": null,
   "metadata": {
    "collapsed": false
   },
   "outputs": [],
   "source": [
    "client = Elasticsearch(hosts='TODO')\n",
    "eshelper.bulk(client, entries)"
   ]
  }
 ],
 "metadata": {
  "kernelspec": {
   "display_name": "Python 3",
   "language": "python",
   "name": "python3"
  },
  "language_info": {
   "codemirror_mode": {
    "name": "ipython",
    "version": 3
   },
   "file_extension": ".py",
   "mimetype": "text/x-python",
   "name": "python",
   "nbconvert_exporter": "python",
   "pygments_lexer": "ipython3",
   "version": "3.6.0"
  }
 },
 "nbformat": 4,
 "nbformat_minor": 2
}
