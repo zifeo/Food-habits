{
 "cells": [
  {
   "cell_type": "code",
   "execution_count": null,
   "metadata": {
    "collapsed": true
   },
   "outputs": [],
   "source": [
    "import pandas as pd\n",
    "import numpy as np\n",
    "import json\n",
    "import nltk"
   ]
  },
  {
   "cell_type": "code",
   "execution_count": null,
   "metadata": {
    "collapsed": false
   },
   "outputs": [],
   "source": [
    "df = pd.read_json(\"../data/marmiton.json\")"
   ]
  },
  {
   "cell_type": "code",
   "execution_count": null,
   "metadata": {
    "collapsed": false
   },
   "outputs": [],
   "source": [
    "df.head()"
   ]
  },
  {
   "cell_type": "code",
   "execution_count": null,
   "metadata": {
    "collapsed": false
   },
   "outputs": [],
   "source": [
    "recipies = df[[\"title\", \"ingredients\"]]"
   ]
  },
  {
   "cell_type": "code",
   "execution_count": null,
   "metadata": {
    "collapsed": false
   },
   "outputs": [],
   "source": [
    "test = recipies.ingredients"
   ]
  },
  {
   "cell_type": "code",
   "execution_count": null,
   "metadata": {
    "collapsed": false
   },
   "outputs": [],
   "source": [
    "mesures = np.array(['dl', 'l', 'ml', 'cl', 'g', 'kg', 'cuillère', 'cuillères', 'cuillerées', 'pincée', 'poignée', 'pincées', 'verre'])\n",
    "litre_ml = [\"ml\",\"cl\",\"dl\",\"l\"]\n",
    "poids_g = [\"g\", \"kg\"]\n",
    "long = np.array(['cuillère', 'cuillères', 'cuillerées'])\n",
    "long_num = np.array([3, 3, 3])\n",
    "stop_word = np.array(['une', 'de', 'petits', 'petites', 'petite', 'petit', 'grand', 'gros', 'grosse', 'beaux', 'beau'])\n",
    "mult = np.array(['ou', 'à'])\n",
    "quant = np.array(['paquet', 'sachet'])"
   ]
  },
  {
   "cell_type": "code",
   "execution_count": null,
   "metadata": {
    "collapsed": true
   },
   "outputs": [],
   "source": [
    "def number(s):\n",
    "    s = s.replace(',', '.')\n",
    "    try:\n",
    "        return float(s)\n",
    "    except ValueError:\n",
    "        if '/' in s and s[0].isdigit():\n",
    "            a, b = s.split('/')\n",
    "            \n",
    "            if not number(a) or not number(b):\n",
    "                return False\n",
    "            \n",
    "            return float(a) / float(b)\n",
    "        else:\n",
    "            return False"
   ]
  },
  {
   "cell_type": "code",
   "execution_count": null,
   "metadata": {
    "collapsed": false
   },
   "outputs": [],
   "source": [
    "np.where([False, False, True, False, False])"
   ]
  },
  {
   "cell_type": "code",
   "execution_count": null,
   "metadata": {
    "collapsed": false
   },
   "outputs": [],
   "source": [
    "def parse(ingredients):\n",
    "    res = []\n",
    "    for ingredient in ingredients:\n",
    "        arr = np.array(nltk.word_tokenize(ingredient))\n",
    "        arr = arr[np.in1d(arr, stop_word, invert=True)]\n",
    "        \n",
    "        if len(arr) > 0:\n",
    "\n",
    "            quant = '/'\n",
    "            mesure = \"/\"\n",
    "\n",
    "            num = number(arr[0])\n",
    "\n",
    "            if len(arr) > 1 and num:\n",
    "                quant = num\n",
    "\n",
    "                if arr[1] in mult:\n",
    "                    arr = arr[2:]\n",
    "\n",
    "                ingredient = \"\"\n",
    "\n",
    "                num = 0\n",
    "\n",
    "                if arr[1].lower() in mesures:\n",
    "                    mesure = arr[1].lower()\n",
    "                    num = 1\n",
    "\n",
    "                    if mesure in long:\n",
    "                        num = long_num[long == mesure]\n",
    "                        mesure = \" \".join(arr[1:1+num])\n",
    "                \n",
    "                if mesure in litre_ml:\n",
    "                    quant *= 10 ** np.where(litre_ml == mesure)[0]\n",
    "                    \n",
    "                if mesure in poids_g:\n",
    "                    quant *= 1000 ** np.where(poids_g == mesure)[0]\n",
    "                    \n",
    "                arr = arr[1+num:]\n",
    "            elif arr[0][0].isdigit():\n",
    "                _1 = arr[0]\n",
    "                for mes in mesures:\n",
    "                    if mes in _1:\n",
    "                        quant = _1.replace(mes, '')\n",
    "                        mesure = mes\n",
    "                        arr[1:]\n",
    "\n",
    "            if '(' in arr:\n",
    "                idx = np.where(arr == '(')[0]\n",
    "                if len(idx) > 1:\n",
    "                    idx = idx[0]\n",
    "                arr = arr[:idx]\n",
    "\n",
    "            res.append((quant, mesure, \" \".join(arr)))\n",
    "        \n",
    "    return res"
   ]
  },
  {
   "cell_type": "code",
   "execution_count": null,
   "metadata": {
    "collapsed": false
   },
   "outputs": [],
   "source": [
    "res = [parse(ingds) for ingds in test]"
   ]
  }
 ],
 "metadata": {
  "kernelspec": {
   "display_name": "Python 3",
   "language": "python",
   "name": "python3"
  },
  "language_info": {
   "codemirror_mode": {
    "name": "ipython",
    "version": 3
   },
   "file_extension": ".py",
   "mimetype": "text/x-python",
   "name": "python",
   "nbconvert_exporter": "python",
   "pygments_lexer": "ipython3",
   "version": "3.6.0"
  }
 },
 "nbformat": 4,
 "nbformat_minor": 2
}
